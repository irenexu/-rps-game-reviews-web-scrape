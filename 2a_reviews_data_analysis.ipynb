{
 "cells": [
  {
   "cell_type": "markdown",
   "metadata": {},
   "source": [
    "# NLP Project - Web Scraping and Text Analysis of Game Reviews on Rock Paper Shotgun\n",
    "## Part II. Text Analysis & Topic Modelling\n",
    "### Step 1 - Analyse and Interpret Dataset"
   ]
  },
  {
   "cell_type": "code",
   "execution_count": 52,
   "metadata": {},
   "outputs": [],
   "source": [
    "import json\n",
    "import numpy as np\n",
    "from collections import Counter"
   ]
  },
  {
   "cell_type": "code",
   "execution_count": 53,
   "metadata": {},
   "outputs": [],
   "source": [
    "# Open the raw JSON file\n",
    "with open('game_reviews_rps_in_recent_years.json', 'r') as file:\n",
    "    # Load the JSON content into a variable\n",
    "    data = json.load(file)"
   ]
  },
  {
   "cell_type": "code",
   "execution_count": 54,
   "metadata": {},
   "outputs": [],
   "source": [
    "# remove all reviews and brief, reformat for further analysis\n",
    "# convert dict to array\n",
    "\n",
    "# items() reference code found in: https://www.programiz.com/python-programming/methods/dictionary/items\n",
    "# ChatGPT used here for debugging\n",
    "data = [{k: v for k, v in item.items() if k not in ['Brief', 'Review']} for item in data]\n"
   ]
  },
  {
   "cell_type": "code",
   "execution_count": 55,
   "metadata": {},
   "outputs": [],
   "source": [
    "# remove all 'keys' and keep 'values'\n",
    "# values() reference code found in: https://www.programiz.com/python-programming/methods/dictionary/values\n",
    "data = [list(item.values()) for item in data]\n"
   ]
  },
  {
   "cell_type": "code",
   "execution_count": 57,
   "metadata": {},
   "outputs": [],
   "source": [
    "data = np.array(data)"
   ]
  },
  {
   "cell_type": "code",
   "execution_count": 58,
   "metadata": {},
   "outputs": [
    {
     "data": {
      "text/plain": [
       "(540, 6)"
      ]
     },
     "execution_count": 58,
     "metadata": {},
     "output_type": "execute_result"
    }
   ],
   "source": [
    "data.shape"
   ]
  },
  {
   "cell_type": "code",
   "execution_count": 66,
   "metadata": {},
   "outputs": [],
   "source": [
    "# seperate each category, slicing code learnt from STEM class\n",
    "titles = data[:,0]\n",
    "urls = data[:,1]\n",
    "game_titles = data[:,2]\n",
    "developers = data[:,3]\n",
    "labels = data[:,4]\n",
    "dates = data[:,5]"
   ]
  },
  {
   "cell_type": "code",
   "execution_count": 68,
   "metadata": {},
   "outputs": [],
   "source": [
    "# split developers and labels and transfer list of lists into a single list\n",
    "list_of_labels = [label.split(', ') for label in labels]\n",
    "list_of_developers = [developer.split(', ') for developer in developers]\n",
    "\n",
    "flat_list_label = []\n",
    "for l in list_of_labels:\n",
    "    for i in l:\n",
    "        flat_list_label.append(i)\n",
    "\n",
    "flat_list_developer = []\n",
    "for l in list_of_developers:\n",
    "    for i in l:\n",
    "        flat_list_developer.append(i)\n",
    "\n",
    "# # ChatGPT used here for search code - 'how to transfer list of lists into a single list using list comprehension'\n",
    "# # alternative solution - nested list comprehensions\n",
    "# flat_list_label = [i for l in list_of_labels for i in l]\n",
    "# flat_list_developer = [i for l in list_of_developers for i in l]"
   ]
  },
  {
   "cell_type": "code",
   "execution_count": 69,
   "metadata": {},
   "outputs": [
    {
     "data": {
      "text/plain": [
       "Counter({'2022': 168, '2023': 153, '2021': 148, '2020': 71})"
      ]
     },
     "execution_count": 69,
     "metadata": {},
     "output_type": "execute_result"
    }
   ],
   "source": [
    "# get the number of articles published each year\n",
    "dates = data[:,5]\n",
    "years = [d[0:4] for d in dates]\n",
    "Counter(years)"
   ]
  },
  {
   "cell_type": "code",
   "execution_count": 70,
   "metadata": {},
   "outputs": [
    {
     "data": {
      "text/plain": [
       "3269"
      ]
     },
     "execution_count": 70,
     "metadata": {},
     "output_type": "execute_result"
    }
   ],
   "source": [
    "len(flat_list_label)"
   ]
  },
  {
   "cell_type": "code",
   "execution_count": 72,
   "metadata": {},
   "outputs": [
    {
     "data": {
      "text/plain": [
       "703"
      ]
     },
     "execution_count": 72,
     "metadata": {},
     "output_type": "execute_result"
    }
   ],
   "source": [
    "# get the number of all the unqiue labels\n",
    "unique_label = np.unique(flat_list_label)\n",
    "len(unique_label)"
   ]
  },
  {
   "cell_type": "code",
   "execution_count": 73,
   "metadata": {},
   "outputs": [
    {
     "data": {
      "text/plain": [
       "[('Baldurs Gate 3', 2),\n",
       " ('Exoprimal', 2),\n",
       " ('Wartales', 2),\n",
       " ('Hardspace Shipbreaker', 2),\n",
       " ('Dorfromantik', 2)]"
      ]
     },
     "execution_count": 73,
     "metadata": {},
     "output_type": "execute_result"
    }
   ],
   "source": [
    "Counter(game_titles).most_common(5)"
   ]
  },
  {
   "cell_type": "code",
   "execution_count": 74,
   "metadata": {},
   "outputs": [
    {
     "data": {
      "text/plain": [
       "[('Wot I Think', 512),\n",
       " ('Indie', 228),\n",
       " ('Action Adventure', 170),\n",
       " ('Strategy', 99),\n",
       " ('Reviews', 97)]"
      ]
     },
     "execution_count": 74,
     "metadata": {},
     "output_type": "execute_result"
    }
   ],
   "source": [
    "Counter(flat_list_label).most_common(5)"
   ]
  },
  {
   "cell_type": "code",
   "execution_count": 75,
   "metadata": {},
   "outputs": [
    {
     "data": {
      "text/plain": [
       "[('Square Enix', 12),\n",
       " ('Capcom', 10),\n",
       " ('Sledgehammer Games', 7),\n",
       " ('Raven Software', 5),\n",
       " ('Treyarch', 5)]"
      ]
     },
     "execution_count": 75,
     "metadata": {},
     "output_type": "execute_result"
    }
   ],
   "source": [
    "Counter(flat_list_developer).most_common(5)"
   ]
  },
  {
   "cell_type": "markdown",
   "metadata": {},
   "source": [
    "### References\n",
    "\n",
    "- Python Dictionary items() [online] Programiz. Available at: https://www.programiz.com/python-programming/methods/dictionary/items\n",
    "\n",
    "- Python Dictionary values() [online] Programiz. Available at: https://www.programiz.com/python-programming/methods/dictionary/values"
   ]
  }
 ],
 "metadata": {
  "kernelspec": {
   "display_name": "nlp",
   "language": "python",
   "name": "python3"
  },
  "language_info": {
   "codemirror_mode": {
    "name": "ipython",
    "version": 3
   },
   "file_extension": ".py",
   "mimetype": "text/x-python",
   "name": "python",
   "nbconvert_exporter": "python",
   "pygments_lexer": "ipython3",
   "version": "3.9.18"
  }
 },
 "nbformat": 4,
 "nbformat_minor": 2
}
