{
 "cells": [
  {
   "cell_type": "markdown",
   "metadata": {},
   "source": [
    "# NLP Project - Web Scraping and Text Analysis of Game Reviews on Rock Paper Shotgun\n",
    "## Part I. Build Dataset\n",
    "\n",
    "### Step 1 - Webpage Exploration & Code Test"
   ]
  },
  {
   "cell_type": "markdown",
   "metadata": {},
   "source": [
    "### Scrape single webpage"
   ]
  },
  {
   "cell_type": "code",
   "execution_count": 80,
   "metadata": {},
   "outputs": [],
   "source": [
    "import requests\n",
    "from bs4 import BeautifulSoup\n",
    "import json\n",
    "import re"
   ]
  },
  {
   "cell_type": "code",
   "execution_count": 85,
   "metadata": {},
   "outputs": [
    {
     "name": "stdout",
     "output_type": "stream",
     "text": [
      "https://www.rockpapershotgun.com/avatar-frontiers-of-pandora-review\n",
      "\n",
      "Avatar: Frontiers Of Pandora review: these frontiers will bore ya                    \n"
     ]
    }
   ],
   "source": [
    "# attempt to scrape single webpage using bs4\n",
    "\n",
    "# original code obtained from the lecture notebook - Week 5 Web data and generative text - Webscraping Wikipedia\n",
    "ROCKPAPERSHOTGUN = \"https://www.rockpapershotgun.com/reviews?page=1\"\n",
    "response = requests.get(url=ROCKPAPERSHOTGUN)\n",
    "html_code = response.text\n",
    "soup = BeautifulSoup(html_code, \"html.parser\")\n",
    "\n",
    "# tag located using Simplescraper - Chrome Extension, https://simplescraper.io/\n",
    "# soup.select = search all with the provided tag\n",
    "titles = soup.select(\"p.title a.link.link--expand\")\n",
    "\n",
    "# get the link & title of the first review article\n",
    "# get herf links, reference code found in: https://stackoverflow.com/questions/3075550/how-can-i-get-href-links-from-html-using-python\n",
    "# .text vs. .get_text(): https://stackoverflow.com/questions/35496332/differences-between-text-and-get-text\n",
    "first_title_text = titles[0].text\n",
    "first_title_url = titles[0].get(\"href\")\n",
    "print(first_title_url)\n",
    "print(first_title_text)"
   ]
  },
  {
   "cell_type": "markdown",
   "metadata": {},
   "source": [
    "### Scapre webpage with different formats\n",
    "\n",
    "A total of 11 (2 types, 3+8) different HTML structures were summarised from RPS and the code was adjusted accordingly to extract data "
   ]
  },
  {
   "cell_type": "markdown",
   "metadata": {},
   "source": [
    "#### FORMAT TYPE I\n",
    "- all information available to scrape (with slightly different html code of brief/developer info/review)"
   ]
  },
  {
   "cell_type": "markdown",
   "metadata": {},
   "source": [
    "##### webpage format 1 - brief variation 1\n",
    "1. review format 1 - soup.select(\"div.article_body_content p\")\n",
    "2. brief format 1 - soup.select(\".article_body_content > :nth-child(1)\")\n",
    "3. developer format 1 - soup.select(\"div.article_body_content li\")"
   ]
  },
  {
   "cell_type": "code",
   "execution_count": 97,
   "metadata": {},
   "outputs": [],
   "source": [
    "link = \"https://www.rockpapershotgun.com/persona-5-tactica-review\"\n",
    "\n",
    "response = requests.get(url=link)\n",
    "html_code = response.text\n",
    "soup = BeautifulSoup(html_code, \"html.parser\")"
   ]
  },
  {
   "cell_type": "code",
   "execution_count": 99,
   "metadata": {},
   "outputs": [
    {
     "data": {
      "text/plain": [
       "7"
      ]
     },
     "execution_count": 99,
     "metadata": {},
     "output_type": "execute_result"
    }
   ],
   "source": [
    "info = soup.select(\"div.article_body_content li\")\n",
    "len(info)"
   ]
  },
  {
   "cell_type": "code",
   "execution_count": 100,
   "metadata": {},
   "outputs": [
    {
     "data": {
      "text/plain": [
       "'Persona 5 Tactica'"
      ]
     },
     "execution_count": 100,
     "metadata": {},
     "output_type": "execute_result"
    }
   ],
   "source": [
    "# extract game title - same for all format\n",
    "link_title = \" \".join(link.replace(\"https://www.rockpapershotgun.com/\", \"\").split(\"-\")).title()\n",
    "\n",
    "# remove everying after 'Review' to obtain a clean link title using regex\n",
    "# remove characters/symbols using regex, reference code found in: https://stackoverflow.com/questions/875968/how-to-remove-symbols-from-a-string-with-python\n",
    "# regex for 'anything after Review' is obtained using ChatGPT, and tested on https://regex101.com/\n",
    "cleaned_link_title = re.sub(r'Review.*', 'Review', link_title)\n",
    "cleaned_link_title\n",
    "\n",
    "# replace unwanted text to obtain the game title - it won't be too accurate tho as some titles were not just a game title but a full sentence describing the article\n",
    "game_title = cleaned_link_title.replace(\" Review\", \"\").replace(\"Wot I Think \", \"\")\n",
    "game_title"
   ]
  },
  {
   "cell_type": "code",
   "execution_count": 101,
   "metadata": {},
   "outputs": [
    {
     "name": "stdout",
     "output_type": "stream",
     "text": [
      "['Atlus', 'PC', 'RPG', 'Sega', 'SEGA of America', 'Simulation', 'Strategy', 'Wot I Think', 'Xbox One', 'Xbox Series X/S']\n"
     ]
    }
   ],
   "source": [
    "# extract topics provided at the end of review - same for all format\n",
    "topic = soup.select(\"#content_above > .page_content span.tagged_with_item.tagged_with_item--secondary a\")\n",
    "topics = []\n",
    "# extract text from each paragraph\n",
    "for item in topic:\n",
    "    topics.append(item.text)\n",
    "print(topics)"
   ]
  },
  {
   "cell_type": "code",
   "execution_count": 102,
   "metadata": {},
   "outputs": [
    {
     "name": "stdout",
     "output_type": "stream",
     "text": [
      "\n",
      "The Persona 5 kids are trapped in high school, their semesters stretched into infinity by the inescapable march of spin-offs that have been retroactively stuffed into every available blank spot. Since the credits rolled on Persona 5 (and also before, and sometimes concurrently), the Phantom Thieves have spent their time in a rubbish Dynasty Warriors knock-off, got lost in a dream about a really cheap rhythm-action game and ended up trapped in a cross-generational dungeon crawler. Now they find themselves embroiled in - of all things - an X-COM style turn-based strategy game. \n",
      "\n",
      "Your energy for Persona 5 Tactica is going to come down to how much tolerance you have for the Persona 5 brand’s Baz Luhrmann-style maximalism. If you're emotionally invested in the gang, it'll definitely help. But even if you're a Persona veteran or a total newcomer, you'll find the story a bit loose, the chats a bit tiring, and the combat a bit simplistic. Then again, if you're a Persona fan, it's still more than a good excuse to sink back into another adventure with your pals.  \n",
      "\n",
      "Having been sucked into another spin-off dimension, the Persona 5 gang find themselves pitted against a tyrannical bridezilla who has an entire kingdom quaking under her heel. She proves her worth as a viable threat by domming most of the Phantom Thieves using evil anime magic, slapping a collar on them and placing them under her control. It's a welcome way to slowly reintroduce you to the cast and their respective new abilities as you steadily rescue them, resulting in a satisfying drip-feed as you work your way through the campaign.  \n",
      "\n",
      "The story is complete nonsense, though, and strikes me as a standard mixture of cartoonish fantasy and Japanese political intrigue. Someone espouses the value of never giving up hope within the first hour, in case you were worried that proceedings were ever going to reach any higher than the average saturday morning cartoon. By being placed concurrent to the events of the main game, any real sense of danger or tension goes out the window - immediately revealing that nobody will ever be in any genuine danger, or that anything that happens will be worth being talked about or even remembered by the main cast.  \n",
      "\n",
      "So, if you don’t happen to have Persona fever, how does it stand on its own as a turn-based strategy game? Honestly, it would be overly generous to call Persona 5 Tactica a strategy game, as most of the stages are incredibly slight, and are often set-up for one specific approach: enemy soldiers love to stand around their prone comrades, setting themselves up to be wiped out in an all-out attack, that involves nothing more than surrounding them in a triangle formation. It feels more like a puzzle game with simple solutions, designed to enable a steady trickle of endorphins as you identify the 'correct' placements and moves. \n",
      "\n",
      "One snappy holdover from the main game’s combat is the \"One More\", which grants you another move if you’re able to lower an enemy’s defences or defeat them outright - which usually leads to satisfying cascades of actions as you overwhelm the opposition. The same can be done to you of course, if you are somehow ever caught out in the open, which is fleetingly rare given the game’s overabundance of invincible cover.  \n",
      "\n",
      "Outside of combat, there is little to do other than chat to your comrades, tinker with their equipment and abilities, or engage with the heavily truncated persona fusion system. Unlike Persona 5, Tactica's persona system limits characters to a single sub-Persona each, which bestows an extra spell or skill buff. Character building in general is also a very minor distraction, with simple character-specific skill trees. You can only have three active party members on the field at any given time, and while they all have certain traits, you’ll be able to make it through most battles with even the most poorly thought out team composition. \n",
      "\n",
      "Similar to how Persona 4: Dancing All Night made you sit through 15 minutes of visual novel for every three minutes spent on a song, the brief skirmishes of Tactica are separated by endless scenes of discussion between blinking portraits on still backgrounds. Most of these boil down to the characters discussing their next plan in excruciating detail: \"Is it a good idea?\"; \"I think it is?\"; \"What if it isn’t?\"; \"What do you think?\"; \"Okay so it’s a good idea!\"; \"But what if it isn’t?\". It’s exhausting, and another layer of tedium in a game that already has its fair share. Knowing you have another wall of exposition waiting for you every time you do a few short missions will make you wish there was more to the fights.   \n",
      "\n",
      "Even diehard fans of the Persona 5 may find this a tough hang, and strategy heads who are perhaps looking for a way into Persona 5 won't find it particularly nourishing either. If you’re a turn-based strategy enthusiast, there are dozens of examples with richer tactical depths. If you like JRPGs for their stories, there are hundreds of better written epics out there. If you wanted something that competently merged an unexpected IP with X-COM mechanics, you could play Marvel's Midnight Suns.  \n",
      "\n",
      "Of course, if you consider the talking cat and the computer girl close personal friends then any excuse to spend more time with them is a good excuse, and all of these shortfalls won’t matter in the slightest. We’re in a world of rapidly depleting and fleeting pleasures, so in the grand scheme of things, an aggressively mid turn-based strategy game is a fairly low price to pay. \n",
      "\n"
     ]
    }
   ],
   "source": [
    "# extract main body text\n",
    "body = (soup.select(\"div.article_body_content p\"))\n",
    "body_text = \"\"\n",
    "# extract text from each paragraph\n",
    "for item in body:\n",
    "    body_text += item.text\n",
    "updated_body_text = body_text.replace(\"\\nThis review is based on a copy of the game provided by the publisher.\",\"\")\n",
    "\n",
    "print(updated_body_text)"
   ]
  },
  {
   "cell_type": "code",
   "execution_count": 103,
   "metadata": {},
   "outputs": [
    {
     "data": {
      "text/plain": [
       "'Atlus'"
      ]
     },
     "execution_count": 103,
     "metadata": {},
     "output_type": "execute_result"
    }
   ],
   "source": [
    "info = soup.select(\"div.article_body_content li\")\n",
    "developer = info[0].text.replace(\"Developer: \", \"\").replace(\"Developer:\", \"\").replace(\"\\n\",\"\")\n",
    "developer"
   ]
  },
  {
   "cell_type": "code",
   "execution_count": 105,
   "metadata": {},
   "outputs": [
    {
     "name": "stdout",
     "output_type": "stream",
     "text": [
      "A turn-based strategy 'em up with the Persona 5 gang that might be a bit too simplistic for some, and anime for others, but still makes for a nice excuse to hang with pals.\n"
     ]
    }
   ],
   "source": [
    "# extract brief\n",
    "brief = str(soup.select(\".article_body_content > :nth-child(1)\"))\n",
    "\n",
    "# use regex to get text between <strong> and </strong> and <ul> \n",
    "# select text between tags, reference code found in: https://stackoverflow.com/questions/7167279/regex-select-all-text-between-tags\n",
    "# ChatGPT is used here for debugging and explaining the code\n",
    "# re.DOTALL allows the . to match any character, including newline characters\n",
    "pattern = re.compile(r'<strong>.+?</strong>(.+?)<ul>', re.DOTALL)\n",
    "match = re.search(pattern, brief)\n",
    "# match.group(1): Retrieves the content captured by regex\n",
    "# .strip(): Removes ' ' at the begining and end of the str, reference code found in: https://www.w3schools.com/python/ref_string_strip.asp\n",
    "text = match.group(1).strip().replace(\"\\r\", \"\").replace(\"\\n\", \"\")\n",
    "\n",
    "# remove everything in <> and <> itself, if any\n",
    "# regex is obtained using ChatGPT, and tested on https://regex101.com/\n",
    "brief_text = re.sub('<.*?>', '', text)\n",
    "print(brief_text)"
   ]
  },
  {
   "cell_type": "markdown",
   "metadata": {},
   "source": [
    "##### webpage format 2 - brief variation 2\n",
    "1. review format 1 - soup.select(\"div.article_body_content p\")\n",
    "2. brief format 2 - soup.select(\".article_body_content > :nth-child(2)\")\n",
    "3. developer format 1 - soup.select(\"div.article_body_content li\")"
   ]
  },
  {
   "cell_type": "code",
   "execution_count": 106,
   "metadata": {},
   "outputs": [],
   "source": [
    "link = \"https://www.rockpapershotgun.com/wo-long-fallen-dynasty-review\"\n",
    "response = requests.get(url=link)\n",
    "html_code = response.text\n",
    "soup = BeautifulSoup(html_code, \"html.parser\")"
   ]
  },
  {
   "cell_type": "code",
   "execution_count": 107,
   "metadata": {},
   "outputs": [
    {
     "data": {
      "text/plain": [
       "6"
      ]
     },
     "execution_count": 107,
     "metadata": {},
     "output_type": "execute_result"
    }
   ],
   "source": [
    "info = soup.select(\"div.article_body_content li\")\n",
    "len(info)"
   ]
  },
  {
   "cell_type": "code",
   "execution_count": 108,
   "metadata": {},
   "outputs": [
    {
     "name": "stdout",
     "output_type": "stream",
     "text": [
      "It's easy to label Wo Long: Fallen Dynasty as a Soulslike that's basically Nioh and Sekiro mashed together. To some extent, that's true. But I think Wo Long is Team Ninja having sanded off some - not all - of the edges from the overwhelmingly complex Nioh, to craft an action RPG with even crisper combat than its predecessor. And crucially, it's more approachable as a result. Clever ranks and meters reward, whether risk-taking is your jam or you're more of a careful type. It may still be a tricky venture filled with demonic, titanic cows that'll want to pound your skull into the dirt, but this is Team Ninja's most encouraging effort yet.Nioh and its sequel are set in a feudal Japan where important historic figures fight over crystals, as these crystals are sparkly and have powers. However! They also have the power to corrupt, turning your shoguns and wizards into bloated demons and gangly harpies. The story is, err... certainly present. And Wo Long is no different, in fact, it's largely the same. Replace feudal Japan with Han Dynasty China, then swap out sparkly crystals for sparkly balls. You there in the back, what effect do you think the sparkly balls have on the game's plentiful historic figures? That's correct, they are corrupted and turned into frothing fiends. Chances are you won't care for any of the story, really. And it's a shame that Team Ninja haven't taken the opportunity to twist Wo Long's tale into something at least a little different to Nioh's. But then again, when the combat is so satisfying, it's all forgiven once you enter battle.Again, if you're a Nioh fan, entering battle will feel familiar. Instead of one big open world that you'll gradually unfurl ala FromSoftware games, Wo Long opts for separate missions that you'll choose from a map menu. Eventually you'll unlock \"sub missions\" that reuse and remix portions of older levels to create tighter, sometimes trickier scenarios. Aside from sating the completionists among us, these are ways to bolster your level, get loot, and become more powerful.In a way then, Wo Long has all the hallmarks of a Soulslike: you harvest Qi (souls) from tough enemies and move between checkpoints until you reach a boss. But it's coupled with a more traditional outlook, where missions are self-contained, labelled things that you're able to scroll through and tick off. And I reckon it works far better here than Nioh, where powering up your character is layered in – later on, at least – a thick grind and a dizzyingly complex web of menus and percentages. Wo Long untangles a lot of Nioh's woes, streamlining things to make the act of ticking off missions not only a joy, but a joy that doesn't threaten entire brain collapse.Wo Long's combat isn't just a joy, it's sensational. And in a typical Team Ninja sort of way, it's not just in how weighty it feels, but in the various systems that grant it weight without making it sag. Nioh's fights are sharp and jagged, with fights that feel like you're jolting your character left and right and diagonally, as if they're on a chessboard. Wo Long rounds off these edges and takes clear cues from Sekiro, where rhythmic parries transport you from the chessboard to the bullring. You don't jolt to and fro, you wait for a flash of red and -  \"schiiinnnnggg!\" - deflect with a flourish.Mix in some swipes with your perfect parries and you might break an enemy's Spirit Meter (poise), letting you pull off a flashy finisher. Aggression is rewarded handsomely, but only if you're able to balance your very own Spirit Meter, too. It's basically a stamina bar split into two halves. Each time you dodge, parry, or use Martial Arts (special moves tied to weapons), you'll enter the negative. Get smacked when it's maxed out and you'll be left gasping and vulnerable for a bit. If you're the one to land your hits successfully, though, the negative will flip over to positive.And a positive Spirit meter is as azure and revitalising as a blueberry Slush Puppie, granting you the power to unleash Martial Arts or Wizardry Spells on your poor victims. The more aggressive you are, the more powerful you'll become in a fight. And in the grizzliest of fights, it's immensely satisfying when a risk pays dividends, and your surplus of blueberry fuels a flurry of swings and spells. If you were to slide Mana or Spirit in front of me, I'd choose Spirit every time. Then boot Mana into the sun. The age of Mana is over, sorry.It's clear that Team Ninja have thought of ways to enhance your usual bash through a mission. Morale Rank is the jewel in the proverbial Slush Puppie lid, which gives everyone, including yourself, a number that sits atop their head. At the start of each mission you'll start at rank zero, with the maximum being 25. To up your rank, you'll need to slay enemies and – ideally – avoid death. If you take on an enemy with a much higher rank than you, then there's a chance you'll be squished in seconds. Although, if you manage to beat them, you'll receive much greater loot drops. Risk and reward tussle once again.What Morale Rank does is add a couple of extra layers to each level. At a glance, you're able to see how an enemy might stack up against you, and whether you're willing to take a risk. But crucially, it rewards you for not taking chances, instead encouraging you to explore, defeat some more enemies, up your rank, and make a triumphant return to the gigantic ape that's snoozing in the trees. Having the option to up your Morale Rank is one thing that makes Wo Long more forgiving than Nioh and possibly Sekiro too. This isn't to say Wo Long isn't difficult – it is. But as someone who's been smushed to a pulp in Nioh and rocked myself to sleep after falling to Sekiro's Lady Butterfly for the umpteenth time, I reckon Wo Long's difficulty hits the sweet spot.Barriers have been levelled by levelling, as well. You pour Qi into one of five elements, occasionally getting points you can spend across a wide range of spells. While it's far from perfect, with the same obtuse energy as Dark Souls and Nioh, where putting points into vague words like \"Mind\" feels like popping a diamond into a coin pusher at an arcade, it's a lot more generous in the way of health and damage bumps. Then you've got a wide range of weapons and mwah, they are delightful. Scimitars. Massive hammers with spikes on them. Halberds. Dual swords. Honkin' great axes. All complete with their own special moves and Team Ninja's ability to make any and all of their combos downright beautiful. It feels like every playstyle is catered for here.I will say, though, that Wo Long doesn't untangle all of Nioh's worst offenders. While, yes, it streamlines a lot of the faff, its finicky approach to loot and stats is both wonderfully deep if you're into the minutae and deeply unpleasant if even just the mention of \"minutae\" makes you retch. You won't find loot streaming out of chests in a rainbow-coloured arc, anymore. So that's good! But your inventory is still cursed to contain a vast array of grey and blue and purple gear, each complete with their own icons and percentiles. A button press can explain each tiny detail to you, yet it can detract from the upgrade process (there's a blacksmith) when gear's so expendable. Why bother investing in a sword when you know twenty better options are due to spring up in the next hour?I'm in two minds about the game's missions too, as they build on Nioh and fall victim to the same level of fatigue. There's a jump button now (cheers Sekiro), which lets you scale up ramparts and into spots where you can plunge down onto demons. Hops add some much-needed dynamism to levels previously bottlenecked by ladders and locked doors. Finally, you're able to bounce your way to discovery. Then again, because the levels are largely linear efforts with optional paths, fatigue can set in, both if you're butting your head up against a slobbering devil, and from the game's tendency to follow a tried and tested layout. Bamboo forests, snow-covered peaks, dingy dungeons, all of them certainly look the part, but can follow too predictable a pattern at times.So then, Wo Long: Fallen Dynasty may fall victim to the same pitfalls that snared its predecessor Nioh. Looting and levelling can be an overwhelming and confusing venture, to the point where it can be actively offputting for those who want to know, at a glance, that the greaves they're rocking and the spells they're casting are the best for their character. And yet, if you embrace the slight messiness of the game's backend, what you've got is a triumphant Soulslike and a showcase of Team Ninja's ability to make some of the best combat in action-RPGs. It's a streamlined Nioh, one with rhythmic action that may not always reward your efforts, but is rewarding in and of itself. And that's what will keep you coming back.\n"
     ]
    }
   ],
   "source": [
    "# extract main body text\n",
    "body = (soup.select(\"div.article_body_content p\"))\n",
    "body_text = \"\"\n",
    "# extract text from each paragraph\n",
    "for item in body:\n",
    "    body_text += item.text\n",
    "updated_body_text = body_text.replace(\"\\nThis review is based on a copy of the game provided by the publisher.\",\"\")\n",
    "\n",
    "print(updated_body_text)"
   ]
  },
  {
   "cell_type": "code",
   "execution_count": 109,
   "metadata": {},
   "outputs": [
    {
     "data": {
      "text/plain": [
       "'Team Ninja, Koei Tecmo'"
      ]
     },
     "execution_count": 109,
     "metadata": {},
     "output_type": "execute_result"
    }
   ],
   "source": [
    "info = soup.select(\"div.article_body_content li\")\n",
    "developer = info[0].text.replace(\"Developer: \", \"\").replace(\"Developer:\", \"\").replace(\"\\n\",\"\")\n",
    "developer"
   ]
  },
  {
   "cell_type": "code",
   "execution_count": 30,
   "metadata": {},
   "outputs": [
    {
     "name": "stdout",
     "output_type": "stream",
     "text": [
      " Team Ninja has streamlined Nioh with dashes of Sekiro, but it stands on its own as a Soulslike with, arguably, the crispest combat out there.\n"
     ]
    }
   ],
   "source": [
    "# extract brief, with different html tag, located by Simplescraper \n",
    "brief = str(soup.select(\".article_body_content > :nth-child(2)\"))\n",
    "pattern = re.compile(r'<strong>.+?</strong>(.+?)<ul>', re.DOTALL)\n",
    "match = re.search(pattern, brief)\n",
    "brief_text = match.group(1).strip().replace(\"<br/>\", \"\").replace(\"\\r\", \"\").replace(\"\\n\", \"\")\n",
    "print(brief_text)"
   ]
  },
  {
   "cell_type": "markdown",
   "metadata": {},
   "source": [
    "##### webpage format 3 - brief variation 3\n",
    "1. review format 1 - soup.select(\"div.article_body_content p\")\n",
    "2. brief format 1 - soup.select(\".article_body_content > :nth-child(3)\")\n",
    "3. developer format 1 - soup.select(\"div.article_body_content li\")"
   ]
  },
  {
   "cell_type": "code",
   "execution_count": 110,
   "metadata": {},
   "outputs": [],
   "source": [
    "link = \"https://www.rockpapershotgun.com/trepang2-review-its-an-indie-fear\"\n",
    "\n",
    "response = requests.get(url=link)\n",
    "html_code = response.text\n",
    "soup = BeautifulSoup(html_code, \"html.parser\")"
   ]
  },
  {
   "cell_type": "code",
   "execution_count": 111,
   "metadata": {},
   "outputs": [
    {
     "data": {
      "text/plain": [
       "6"
      ]
     },
     "execution_count": 111,
     "metadata": {},
     "output_type": "execute_result"
    }
   ],
   "source": [
    "info = soup.select(\"div.article_body_content li\")\n",
    "len(info)"
   ]
  },
  {
   "cell_type": "code",
   "execution_count": 112,
   "metadata": {},
   "outputs": [
    {
     "name": "stdout",
     "output_type": "stream",
     "text": [
      "Here's a move I pull in most gunfights in Trepang2: slidekick into an enemy, grab them out of mid-air, briefly hold them in front of me as a human shield, only to pull the pin on their vest's grenade and hurl them into a group of their pals, who do try to scatter before this meaty bomb bursts but sadly forget that they also need to avoid me and my shotgun. Often this is all in slow-motion. Trepang2 is unashamedly aiming to be a new F.E.A.R. and does a pretty great job of it for a game made by a core team of only four people (plus external artists and such). Give me a shotgun, a slidekick, and slo-mo, and I'm happy.It's the near future and you are a supersoldier fighting for a secret organisation. Corps and cults are engaged in questionable science, creating fleshy bioweapons and poking at incomprehensible otherworldly entities, so here you come in your black helicopter to invade their offices and secret bases. Many parts feel familiar—SCP, Resident Evil, creepypasta horror stories, maybe a little Hitman, and a lot of F.E.A.R.—but Trepang2 assembles them in a mostly fun way. More importantly, hey, it basically plays like F.E.A.R. with a dash of Crysis, and that's great.I will explain the key keys and you will understand the possibilities for cool murder. Press Q to enter bullet time, depleting a generous gauge which refills with kills. Press E to turn invisible, which doesn't last long but does recharge quickly by itself. Right-click is your melee attack, contextually ranging from a pistol whip to a jumpkick. Press Alt to drop to your knees and instantly whoosh forward into a slidekick which tosses enemies into the air like toddlers whose comedic ignorance of Slip 'N Slide safety protocols will soon earn them £250 on You've Been Framed. Hit F to grab unaware or staggered enemies, holding them up as a human shield (their pals do hold fire) before snapping their neck, throwing them, or pulling their grenade pin and then throwing them. Press to G to throw your own grenade, axe, proximity mine, or other doodad. And left-click to fire guns which shake and kick and boom and remove heads from this plane of reality with great style, especially once you gain the ability to dual wield.Trepang2 feels like how F.E.A.R. exists in my memory. Loud action followed by quiet exploration. Healthpacks and armour kits (though with the tiniest little emergency bar of regenerating health). Occasional jumpscares and ghost nonsense. The mild frustration of shooting without aiming down sights (ADS here limited to a handful of guns with specific attachments). Grenades exploding with a spacetime-bending bubble effect. Mostly it's in the fast and stylish fights against enemies who are trying their best to stay alive.Aside from a lack of caution around open flames and the poor decision not to quit their jobs the instant I arrived holding a drum-loaded grenade launcher in each hand, the human enemies feel smart. They react to my actions to lay down suppressive fire, drop flares in dark places, hunt for me, position themselves in anticipation of where I might attack from, and work as squads to flank and cover. Like F.E.A.R.'s much-praised AI, part of its success is the clever trick of enemies vocalising their behaviour. They have a huge range of voiced lines covering just about everything they or I might do, and readily shout them. A respectable flanking manoeuvre feels more intelligent when I hear one fella request cover then his pal shouts back confirmation. And I do appreciate a mook's sweary realisation that I've absolutely monstered through his squad and he's next. The allied troops who sometimes fight alongside you actually seem helpful too.Stealth is an option, mind. Enemies don't magically know where you are, and can lose track of you. You can use silenced weapons. You can shoot out lights. You can silently crouch-walk.  You can snatch people and snap their necks. You can lurk in shadows, and the crosshair indicates darkness. Your cloak recharges quickly. You can even snipe, though most spaces are too close for it. If you wanted, I suppose you could carefully pick a squad to pieces like a curious child dissembling a spider. That seems like it might be fun. That might be important on the highest difficulty levels. I wouldn't know much about stealth because I can dual-wield SPAS-12 shotguns with incendiary ammo and I don't want to put them down.Every gunfight trashes the place. Windows, wooden walls, desks, statues, benches, columns, giant hams, lights, and so much more can be destroyed or broken. If not, it will at least shower debris and sparks. People burst into blood and limbs and viscera when violenced with an appropriate method. Their blood also temporarily coats your guns and clothes, growing to a thick layer of chunky plum jam if a fight is intense enough. Flames linger too, burning breakables and roasting corpses.Sometimes destruction is important. Trying to defend my position in a rickety two-storey shack was easy at first, with generous vantage points, plenty of cover, and only two ways to reach me up top. Soon, the balcony fence and external walls are blown to pieces, the internal wall I retreated behind is on fire, and oh a squad just breached the front door. As I finish shotgunning the intruders, big boys with grenade launchers arrive and now I desperately need to escape my splash damage coffin and fight in the open. Othertimes, destruction is simply pretty. I particularly enjoyed the running gunfight in a grand multi-level library which swirled with a blizzard of paper fragments from injured books and left so many elegant busts de-faced. And this being a game spiritually from 2005, absolutely it has multiple The Matrix-y lobby shootouts full of pillars.I'm focusing on joys of moment-to-moment murder because the campaign overall is, sure, yeah, it's fine. Trepang2 is a 2005 FPS through and through. Levels are combat arenas connected by meandering corridors littered with collectible lorelogs. The obligatory multi-phase boss fights are perhaps a bit better (or less bad?) than in many 2005 shooters. The plot is justification enough to visit a variety of places and fight some variety of enemies. The tone bounces around uneasily, switching between F.E.A.R., creepypastas, and Paul W. S. Anderson's Resident Evil movies while passing through clear inspirations including an Aliens reactor sequence and one popular Internet horror setting which felt so out of place that I initially thought I'd stumbled into a large Easter egg. It's not a long campaign either, taking me 8 hours including all side missions.Missions start out at your secret base, picking assignments from a big world map table which looks like it was intended to fill up with a lot more dots than it ever does. As you complete story missions in sequence, a scattering of optional side missions unlock. These littluns boil down to surviving waves of enemies in a smallish area. Some side missions have fun with this, adding a good ghost story or wrapping themselves in spectacle with helicopters battling overhead or AA guns blasting at a colossal skeletal UFO. Others are boring killboxes whose hollow presence only makes a small game feel smaller.Back home you can also lark about in a VR combat simulator with loads of little levels, change your uniform colours (important: yes, you can see your legs), and set your starting loadout. While you can grab weapons in the field, completing missions and finding hidden attachments lets you deploy with your favourite gear customised the way you like. Click on a laser sight, fold that stock, screw on a silencer, and hey, maybe give your minigun a spinning bouquet of bayonets. The base as a 3D space could functionally be replaced with four menus but I quite like the procedure, globetrotting, and self-indulgence of it all.I can gripe about Trepang2's tone and I can shrug at its plot and I can pout about its length but that's all fine, really. Criticisms fade when I launch it to double-check a detail then get lost bursting heads for 20 minutes before remembering I have a review to finish. I already fancy returning to check out higher difficulty levels or the many cheats and modifiers unlocked after finishing the game (ranging from 'Only Headshots Kill' to 'Squeaky Voices'), or just to shoot faces all over again. Oh, I do enjoy shooting these faces! I'm hoping new missions might follow if it does well, or even that 2005 FPS staple, an expansion pack.A demo is up on Steam, though I think that might be a bit old now.This review is based on a release copy of the game provided by the publisher, Team17.\n"
     ]
    }
   ],
   "source": [
    "# extract main body text\n",
    "body = (soup.select(\"div.article_body_content p\"))\n",
    "body_text = \"\"\n",
    "# extract text from each paragraph\n",
    "for item in body:\n",
    "    body_text += item.text\n",
    "updated_body_text = body_text.replace(\"\\nThis review is based on a copy of the game provided by the publisher.\",\"\")\n",
    "\n",
    "print(updated_body_text)"
   ]
  },
  {
   "cell_type": "code",
   "execution_count": 113,
   "metadata": {},
   "outputs": [
    {
     "data": {
      "text/plain": [
       "'Trepang Studios'"
      ]
     },
     "execution_count": 113,
     "metadata": {},
     "output_type": "execute_result"
    }
   ],
   "source": [
    "info = soup.select(\"div.article_body_content li\")\n",
    "developer = info[0].text.replace(\"Developer: \", \"\").replace(\"Developer:\", \"\").replace(\"\\n\",\"\")\n",
    "developer"
   ]
  },
  {
   "cell_type": "code",
   "execution_count": 35,
   "metadata": {},
   "outputs": [
    {
     "name": "stdout",
     "output_type": "stream",
     "text": [
      "Trepang2 is a short but joyously violent first-person horror shooter and the closest we've had to F.E.A.R. in years\n"
     ]
    }
   ],
   "source": [
    "# extract brief, using different brief html tag, located by Simplescraper\n",
    "brief = str(soup.select(\".article_body_content > :nth-child(3)\"))\n",
    "pattern = re.compile(r'<strong>.+?</strong>(.+?)<ul>', re.DOTALL)\n",
    "match = re.search(pattern, brief)\n",
    "brief_text = match.group(1).strip().replace(\"<br/>\", \"\").replace(\"\\r\", \"\").replace(\"\\n\", \"\")\n",
    "print(brief_text)"
   ]
  },
  {
   "cell_type": "markdown",
   "metadata": {},
   "source": [
    "##### webpage format 4 - brief variation 4\n",
    "1. review format 1 - soup.select(\"div.article_body_content p\")\n",
    "2. brief format 1 - soup.select(\":nth-child(1) > em\")[0]\n",
    "3. developer format 1 - soup.select(\"div.article_body_content li\")"
   ]
  },
  {
   "cell_type": "code",
   "execution_count": 114,
   "metadata": {},
   "outputs": [],
   "source": [
    "link = \"https://www.rockpapershotgun.com/stoneshard-early-access-review\"\n",
    "\n",
    "response = requests.get(url=link)\n",
    "html_code = response.text\n",
    "soup = BeautifulSoup(html_code, \"html.parser\")"
   ]
  },
  {
   "cell_type": "code",
   "execution_count": 115,
   "metadata": {},
   "outputs": [
    {
     "data": {
      "text/plain": [
       "6"
      ]
     },
     "execution_count": 115,
     "metadata": {},
     "output_type": "execute_result"
    }
   ],
   "source": [
    "info = soup.select(\"div.article_body_content li\")\n",
    "len(info)"
   ]
  },
  {
   "cell_type": "code",
   "execution_count": 116,
   "metadata": {},
   "outputs": [
    {
     "name": "stdout",
     "output_type": "stream",
     "text": [
      "Like any decent professional videogames journalist, I have spent the last ten years devaluing the term “roguelike” through overuse. Anything where a goblin politely waits for you to take your turn? Roguelike. Anything where a big slime can permanently murder you? You better believe that’s a roguelike. We would walk down the street with wheelbarrows full of roguelike. We burned piles of it just to keep warm. We introduced the word “roguelite” as a form of quantitative easing, but it failed to curb spiralling rogueflation. So now, faced with Stoneshard – a roguelike that’s really, very, incredibly, actually like Rogue – I’m left reaching for useful adjectives.Stoneshard is a top-down, tile-based dungeon crawler in which time only moves when you do. It’s as if Superhot and chess stole Diablo’s car to go on a road trip to Durham. It’s like NetHack and Dungeons of Dredmor held hands and stared lovingly into one another’s eyes as they walked into the ocean. You are an adventurer in a richly detailed, open ended fantasy world piled high with quests, magic, monsters and loot, whose main superpower is the ability to – between any two footsteps – go make a tofurkey sandwich in the real world while your gracious opponents remain patiently frozen in time. \n",
      " \n",
      "To mitigate this ability to pore over each tiny decision, Stoneshard is also blindingly difficult. Combat is driven by a detailed injury simulation in which individual limbs can be broken, wounds can bleed, and head trauma can leave you seeing things that aren’t there. Snapped bones have to be treated with splints and open gashes wrapped in bandages. And even if you’re able to remedy the immediate damage to your soft wet body, all of this evisceration leaves an indelible mark on your mental health, ratcheting up an entirely separate pain meter that must also be kept in check. Booze can dull the pain, as can a hit from a bong full of ether, but both of those treatments increase your intoxication levels. If you’re drunk you become clumsy, or worse, you might vomit or pass out, which sends your thirst and hunger bars flying. So you might take a whiff of a special herb to sharpen your senses and sober up, which usually brings all of your various health meters back into alignment. The only victim of this repeated process of scrapping and healing is your fragile sanity meter, which is difficult to keep topped up and quietly erodes with the generalised trauma of being an adventurer.  \n",
      " \n",
      "There’s a tendency among some indie developers to believe that all detail is good detail. Outdoor survival sim Scum, for example, keeps a running total of how many teeth you’ve got at any given moment, on the off chance that knowing how many molars are still inside your skull might somehow enhance your enjoyment of the game. But here in Stoneshard, all of this fine bodily detail really does improve combat. Breaking an arm is just rare enough to not be irritating. The risk of sustaining an injury you might not be equipped to deal with means you can’t charge into a fight with the unearned confidence of somebody who can simply wait 50 turns in a quiet corner of the dungeon for a health bar to replenish. This attention to detail is lavished on a bunch of other systems, and learning which aspects of it you can safely ignore is the only way to make sense of Stoneshard’s often turgid hover-text. Some weapon and buff descriptions read like mortgage terms and conditions. This is an RPG in which your pyromancy is less effective in the rain, because wet enemies have a 50% resistance to fire magic. Food is especially riddled with stat boosts and penalties, some of which conspire against the integrity of your guts. You can go foraging in the woods for mushrooms, eat them all at once and go utterly haywire near a bush, vomiting uncontrollably before eventually dying in a drug-induced stupor as your wretched body attempts to turn itself inside out.  \n",
      " \n",
      "Every NPC in the game follows a daily routine, sleeping in their beds and showing up to work at market stalls. At one point I backtracked along a forest path where I had earlier murdered some bandits, to find birds picking the flesh from their rotting corpses. Occasionally your character will say something encouraging to themselves, giving you an optimism buff that lasts for a short while. This is a richly textured world filled with interesting little surprises. I remember imagining what NetHack would be like if you could sack off your quest for the amulet, stroll out of the dungeon and explore the world above ground. Stoneshard feels eerily close to what my tiny brain had conjured up.What’s sorely missing from this early access version is all of the bigger picture stuff. Entire chunks of the game are still missing, enough to make it tough to recommend at this stage. The main plot abruptly vanishes into thin air, and what story there is stumbles over every fantasy RPG trope you could think of. The difficulty level is all over the place too, bound up by a punishing save game system that can wipe out hours of hard-won progress at the whim of a random encounter with a hidden spike trap or an overpowered archmage leaping out from behind a bookshelf.  \n",
      " \n",
      "Stoneshard is a true roguelike in its unwavering insistence that each death feel significant – adding the ability to save the game at all seems to have been a concession – but in its current form the game’s semi-permadeath solution feels like a codge. Repeatedly trotting back to a tavern to bank your progress feels in opposition to the spirit of the game, a ritual that soon becomes an unavoidable chore, like having to take out the bins or wash your hands before you head out on a quest.Hey, I don’t have any better ideas – if I did I’d be sipping Moet and laughing with all of the other incredibly wealthy indie devs aboard the big indie dev blimp – but the rapid pace at which giant, content-heavy updates are landing gives me confidence that a healthy balance will be found, one that accommodates the temperaments of every kind of player. Stoneshard already feels like a classic RPG in the making, an ambitious project with vast potential, a seemingly endless capacity to add depth and detail to its already intricate world simulation, and a uniquely roguelikey roguelike.\n"
     ]
    }
   ],
   "source": [
    "# extract main body text\n",
    "body = (soup.select(\"div.article_body_content p\"))\n",
    "body_text = \"\"\n",
    "# extract text from each paragraph\n",
    "for item in body:\n",
    "    body_text += item.text\n",
    "updated_body_text = body_text.replace(\"\\nThis review is based on a copy of the game provided by the publisher.\",\"\")\n",
    "\n",
    "print(updated_body_text)"
   ]
  },
  {
   "cell_type": "code",
   "execution_count": 39,
   "metadata": {},
   "outputs": [
    {
     "data": {
      "text/plain": [
       "'Ink Stains Games'"
      ]
     },
     "execution_count": 39,
     "metadata": {},
     "output_type": "execute_result"
    }
   ],
   "source": [
    "info = soup.select(\"div.article_body_content li\")\n",
    "developer = info[0].text.replace(\"Developer: \", \"\").replace(\"Developer:\", \"\").replace(\"\\n\",\"\")\n",
    "developer"
   ]
  },
  {
   "cell_type": "code",
   "execution_count": 117,
   "metadata": {},
   "outputs": [
    {
     "name": "stdout",
     "output_type": "stream",
     "text": [
      "Premature Evaluation is the weekly column in which Steve Hogarty explores the wilds of early access. This week, he's being pulverised by trolls and torn to shreds by wolves in challenging roguelike Stoneshard.\n"
     ]
    }
   ],
   "source": [
    "# extract brief, using different brief html tag, located by Simplescraper\n",
    "brief = soup.select(\":nth-child(1) > em\")[0].text\n",
    "print(brief)"
   ]
  },
  {
   "cell_type": "markdown",
   "metadata": {},
   "source": [
    "##### webpage format 5 - body variation 1 + brief variation 5 (body and brief are in the same code format)\n",
    "1. review format 1 - (soup.select(\"div.article_body_content p\"))[1:]\n",
    "2. brief format 1 - soup.select(\".article_body_content aside p\")[0]\n",
    "3. developer format 1 - soup.select(\"div.article_body_content li\")"
   ]
  },
  {
   "cell_type": "code",
   "execution_count": 118,
   "metadata": {},
   "outputs": [],
   "source": [
    "link = \"https://www.rockpapershotgun.com/gears-tactics-review\"\n",
    "\n",
    "response = requests.get(url=link)\n",
    "html_code = response.text\n",
    "soup = BeautifulSoup(html_code, \"html.parser\")"
   ]
  },
  {
   "cell_type": "code",
   "execution_count": 119,
   "metadata": {},
   "outputs": [
    {
     "data": {
      "text/plain": [
       "6"
      ]
     },
     "execution_count": 119,
     "metadata": {},
     "output_type": "execute_result"
    }
   ],
   "source": [
    "info = soup.select(\"div.article_body_content li\")\n",
    "len(info)"
   ]
  },
  {
   "cell_type": "code",
   "execution_count": 120,
   "metadata": {},
   "outputs": [
    {
     "name": "stdout",
     "output_type": "stream",
     "text": [
      "I've been playing Gears Tactics with every spare moment of the last week. The second I'm done writing review, I'm going back for more. It's superb. In fact, it's good to the extent where, as risky as it is to say such a thing, I'd argue it sets the new gold standard for turn-based tactics.I say that as a lifelong XCOM (and X-COM) fan, too, and without disrespect to those games. After all, the formula set by 1994's X-COM is the foundation for pretty much the entire genre, and Gears Tactics sits squarely atop it. It's a game about assembling squads from a pool of soldiers, and sending them on missions. There, they have a set number of actions each turn, to spend on moving around the map, shooting baddies, or using special abilities. After your actions run out, the baddies have a turn. In that much at least, little has been reinvented. But just as happened when XCOM arrived in 2010, Gears Tactics has redefined just how much fun can be had with that simple recipe for squad-based xenocide.I don't think anyone really expected a turn-based tactics game from the Gears Of War series. I was pretty nonplussed when I heard about it, to be honest. At best, I was expecting something like the Halo Wars games. That is to say, a solid effort, but one which measured up neither to the depth of its strategy peers, nor to the blockbuster charisma of its license. But Gears Tactics, it transpires, is full of hybrid vigour: overflowing with action game brawn, but with plenty of brains behind it all. It turns out that, even in the preposterously hench world of Gears, the mind really is the strongest muscle.Perhaps the fact that nobody had any expectations for Gears Tactics has worked in its favour. Its designers were free to pick and choose from the classic squad tactics toolkit, as they had no community to alienate, and no features to include out of a sense of duty to tradition. The most notable omission, as a result, is the lack of any strategic/management metagame at all. As soon as a mission's done, you re-equip your soldiers with newly looted gear and skills gained from levelling, and jump into another one. Story missions are bookended with cutscenes, and sometimes there's a choice of side missions to go on. But beyond that, there is only beasting.If that sounds like a drastic amputation, bear with me. Because I am, let's not forget, a lover of management games. I enjoy base-building, fighter-intercepting, fund-wheedling and gun-procuring as much as anyone. But they offer a slow drip dopamine release, rather than the rush that comes from wrangling a chaotic guerilla fight towards dramatic victory. And while I loved XCOM 2's War Of The Chosen DLC, and all the complexity of its strategic layer, I did find the gear-shifting between the modes of play faintly jarring. Sometimes fights felt like annoying distractions from my global resistance management simulator, while sometimes the geoscape felt like a stressful, baffling diversion from up-close carnage.Gears, meanwhile, has only one gear: \"of war\". It's thrown nearly everything it has into the tactical layer, and it does everything it can to keep you there, like a Vegas casino bringing you whiskey sours to keep you anchored in the depths of shitfaced blackjack. Mission leads into mission as you chainsmoke fights, and you can lose whole nights of sleep to the urge to push just one mission further. Again, I stress: management layers are not in any way bad. But this game does not suffer for lack of one. Action frenzy after action frenzy, broken only by OTT cutscenes, is the flavour of big budget shooters after all, and particularly of the Gears series. In that way, The Coalition did have an expectation to meet. They knew that, to stay true to their source material, they had to let as little as possible get in the way of constant, chainsaw-facilitated life cancellation.This \"GO, GO, GO\" mentality is written through the whole of the combat system, too. At its heart is the execution mechanic, which you can see in the screenshot above. Here, a locust trooper has been escorted to the threshold of death by a number of bullets, and I'm about to send one of my squad charging round the bus to finish the job. At that point, the game will cut to a close-up execution vignette full of grand-guignol revving and splattering. And then, when the deed is done, everyone else on my squad will gain a fresh action point, allowing them to squeeze off another shot, get into cover or - if I'm lucky - run forward to conduct an execution of their own and expand the wealth.This simple mechanic leads into wild, snowballing chains of opportunity, and if you judge your initial risk right, ugly deadlocks can blossom into routs. But getting too carried away can leave you dangerously overextended, as your luck finally runs dry in the middle of a horde of snarling grey muscle lizards. It's all very finessed, all very finely balanced: objectives and level designs give you every motivation to play aggressively, but unthinking recklessness will be punished. Your constant challenge is to be cleverly hyperagressive, and you soon begin to develop a stockbroker's instinct for calculating risk and reward.In some missions, for example, you're tasked with rescuing troopers from enemy \"torture pods\", and can only take one or two of your usual four-person squad onto the map. There's a time limit on getting to the pods and escaping again. But once they've been opened by your soldiers, their occupants join you in the fight, after a turn spent walking off all the torture. Approach each pod in turn, however, picking off guards in a staggered advance, and you'll risk running out of time. Often, it's better to send one beefcake to either pod, charging into the middle of massive knots of enemies, and then try to fight your way out of both shitshows at once, with the aid of the rescued soldiers. It feels like lunacy, but somehow it works. The more hectic the situations you throw your squads into, the more opportunities you find to work their skills.And things do get hectic. You're always massively outnumbered by your enemies, with the locust horde coming at you by the dozen, and there's an increasingly punishing array of enemy classes mixed in as the game goes on, from scampering bomb-creatures that move closer when you miss a shot at them, to anvil-faced priests who make the troops around them nearly invulnerable. But you never feel bullied, for lack of a better word. I've come across a few missions that stopped me in my tracks repeatedly, but I never got to the point of swearing at my screen, or throwing my hands up in appeal to an invisible referee. Yes, there were shots that totally should have hit, and legions of snipers I had no place to hide from. But I can't think of one occasion where the game didn't give me the tools, or the information, I needed to find a way out of a mess, whatever the RNG had in store. The constant brinkmanship makes you feel powerful and clever, rather than just stressed - you're faced with ludicrous odds, but somehow, you almost always find a way to pull it out of the bag. You feel, in other words, like the protagonist of an FPS.Crucially, however, the difficulty curve never swerves too far in the other direction either. On the default difficulty setting it's pretty forgiving, but not easy. I never really encountered that slightly deflating moment of \"oh, is that all it's going to throw at me?\", or felt like my troops had become too powerful for the situations facing them. Partially, this is because Gears has a backbone of fully designed story missions (I didn't count, but it felt like 20-odd), interspersed with partially randomised side missions, so it knows roughly where you'll be in terms of power level when you reach each of its many milestones. More than that, though, it lets you set your own difficulty within missions. Each one has an optional objective, such as troop class restrictions or time limits, which award weapon and armour upgrades if accomplished. And if that's still not enough, further loot is scattered around the map in crates, leading to yet more risk/reward calculations as you try to work out whether it's worth diverting soldiers into hotspots to retrieve them.Of course, the pacing of a Gears game wouldn't be complete without ridiculous boss battles, and Gears Tactics has 'em. There's only a small number of the really big lads to face, but they're grand old fights. The first is the Brumak, which is sort of like the product of a loveless marriage between a T-rex and a cave troll, with massive guns strapped to it. The second is a honking great spider with goggles called a Corpser, and it's a proper disaster. Both are utterly massive on the field of play, and put you through the wringer with great long batterings that - in classic monster boss style - transition through three distinct phases as you chip away at the big red health bars.This Gearsiness seeps into every element of GT's design, beyond just the mechanics. Everything is either made of needlessly chunky, battered metal, or needlessly chunky muscles. Even the vehicles, somehow, look totally ripped. The narrative design too, is appropriately meatheaded. And I don't mean that at all as a dismissal. Yep, it's full of melodrama and time-worn cliche, but every last grunt of it is exactly where it needs to be. It takes genuine talent and craft to write good, engaging pulp, and GT's writers have done a bang-up job of doing just that. It's not a complex story, but it's more solidly told than your average big action flick, and I enjoyed it lots.Your main lad, Gabe Diaz, is an extraordinarily wide man, whose adventure precedes the original Gears Of War by 12 years. The horrid locusts are in the process of overrunning the planet of Sera as the story starts, and Gabe - a lieutenant who demoted himself to sergeant because the horrible government kept making him do horrible things - finds himself as the only ranking brutus in the middle of all the carnage. He is, therefore, the only person capable of organising a fightback against a particularly horrid locust called Ukkon, and so must regretfully become the King Of The Army once more.In the process of hunting Ukkon, Gabe puts together a squad of very wide men and normally proportioned women, recruited from a group of civilian workers. They initially loathe Gabe because of the aforementioned horrible government and their atrocities, and think he is a nasty fash. But Gabe is actually a decent, thoughtful sort of bloke, as befits this more thinky instalment in the Gears series, and he wins them round. He won me round, too. Him and all his burly colleagues are impeccably voice-acted, and are well-versed in the bants of war.But for all of GT's sledgehammer attitude, I can't stress enough that it is not a simple game. Any loss of depth it might have suffered from foregoing a strategic layer is more than compensated for by the complexity of the battlefield, and in particular by the interplay between character skills. There are millions of the things. Well, about 150, actually, with each of the five character classes having a skill tree of thirty-plus passive and active abilities, split into four subclass quadrants.There are your classic Snipers, your minigunning Heavies, and your shotgun-toting, cloakable Scouts. But there's also the Support class, which can be hammered into a medic, an action-point-granting commander, or some sort of chainsaw messiah who makes everyone stronger by cutting aliens into lumps. And most interesting of all is the Vanguard, a sort of shock trooper class whose skills exemplify the game's tactical philosophy of solving dangerous messes by making them more messy and dangerous. Every class has a creative, varied set of skill upgrades with very few dull or useless picks, and working out team build compositions is a constant pleasure.This brings me to my one significant criticism of Gears Tactics, which is the UI of the loadout segment in between missions. You would think, given everything the developers have done to keep the action flowing, that the one bit of Gears Tactics that doesn't directly involve killing would be as slick as possible. But it's really not. Efficient play means constantly switching up peoples' loadouts to match their skills, and moving second-tier gear to less experienced soldiers as your A-team get the best new toys. It's quick and slick when you've only got a few troopers, but as your roster grows and you pick up more and more loot, it gets to be a bit of a fucking task to outfit them all.There's no way of quickly seeing who's got what kit, or of checking which bits and bobs match a soldier's passive abilities, without navigating back through tabs in a way that's not quite intuitive enough to sink into muscle memory. When a cracking new pair of trousers comes in, you begin to groan internally, as it will mean tabbing through screen after screen, constantly doubling back to check numbers, as you shift less astonishing trousers down the ranks. It's like being a harried Victorian parent, trying to co-ordinate hand-me-downs between sixteen children, and it soon begins to take the edge off the fight-loot-fight compulsion. It's not a gamewrecker by any means, and I'm pretty sure it's easily fixable, but I had more than one twenty-minute rummaging sesh that I could have done without.So, in conclusion. This is 100% a Gears Of War game, that also happens to be a top flight strategy effort. Arguably the best of its kind on the market, in fact, despite a bit of trouser trouble. It's a spectacular thing to play through, and it'd be more than enough to merit the fifty quid price tag if it deleted itself on completion. Thankfully, however, the replay value is much greater than you'd expect. There's the randomised side missions, for a start. And even for the linear-ish story missions, the massive spread of subclasses and squad compositions allow for way more playstyles than you can feasibly test out in one run. Plus you can play them on \"veteran\" mode after one completion, offering a new suite of game rule modifiers to present you with fresh challenges. It's the first game in ages that gave me the urge to start a second playthrough in the same session as my first completion, which says a lot.Speaking of which, I think it's time to play a bit more Gears Tactics. You should do the same.\n"
     ]
    }
   ],
   "source": [
    "# extract main body text\n",
    "body = (soup.select(\"div.article_body_content p\"))[1:]\n",
    "body_text = \"\"\n",
    "# extract text from each paragraph\n",
    "for item in body:\n",
    "    body_text += item.text\n",
    "updated_body_text = body_text.replace(\"\\nThis review is based on a copy of the game provided by the publisher.\",\"\")\n",
    "\n",
    "print(updated_body_text)"
   ]
  },
  {
   "cell_type": "code",
   "execution_count": 121,
   "metadata": {},
   "outputs": [
    {
     "data": {
      "text/plain": [
       "'Splash Damage, The Coalition'"
      ]
     },
     "execution_count": 121,
     "metadata": {},
     "output_type": "execute_result"
    }
   ],
   "source": [
    "info = soup.select(\"div.article_body_content li\")\n",
    "developer = info[0].text.replace(\"Developer: \", \"\").replace(\"Developer:\", \"\").replace(\"\\n\",\"\")\n",
    "developer"
   ]
  },
  {
   "cell_type": "code",
   "execution_count": 45,
   "metadata": {},
   "outputs": [
    {
     "data": {
      "text/plain": [
       "'This is 100% a Gears Of War game, that also happens to be a top flight strategy effort.'"
      ]
     },
     "execution_count": 45,
     "metadata": {},
     "output_type": "execute_result"
    }
   ],
   "source": [
    "# using different brief html tag, located by Simplescraper\n",
    "brief = soup.select(\".article_body_content aside p\")[0].text\n",
    "brief"
   ]
  },
  {
   "cell_type": "markdown",
   "metadata": {},
   "source": [
    "##### webpage format 6 - all info available but len(li)=0; brief variation 1\n",
    "1. review format 1 - soup.select(\"div.article_body_content p\")[2:]\n",
    "2. brief format 1 - soup.select(\".article_body_content > :nth-child(2)\") + regex\n",
    "3. developer format 1 - soup.find('strong', string='Developer:')"
   ]
  },
  {
   "cell_type": "code",
   "execution_count": 122,
   "metadata": {},
   "outputs": [],
   "source": [
    "link = \"https://www.rockpapershotgun.com/unto-the-end-review\"\n",
    "response = requests.get(url=link)\n",
    "html_code = response.text\n",
    "soup = BeautifulSoup(html_code, \"html.parser\")"
   ]
  },
  {
   "cell_type": "code",
   "execution_count": 123,
   "metadata": {},
   "outputs": [
    {
     "data": {
      "text/plain": [
       "0"
      ]
     },
     "execution_count": 123,
     "metadata": {},
     "output_type": "execute_result"
    }
   ],
   "source": [
    "info = soup.select(\"div.article_body_content li\")\n",
    "len(info)"
   ]
  },
  {
   "cell_type": "code",
   "execution_count": 126,
   "metadata": {},
   "outputs": [
    {
     "data": {
      "text/plain": [
       "'A unique, demanding 2D sword fighting game that frustrates as much as it impresses.'"
      ]
     },
     "execution_count": 126,
     "metadata": {},
     "output_type": "execute_result"
    }
   ],
   "source": [
    "# using different brief html tag, located by Simplescraper\n",
    "# regex\n",
    "brief_text = str(soup.select(\".article_body_content > :nth-child(2)\"))\n",
    "pattern = re.compile(r'<strong>.*?</strong><br/>\\s*(.*?)\\s*<', re.DOTALL)\n",
    "# find all matches, reference code found in: https://stackoverflow.com/questions/4697882/how-can-i-find-all-matches-to-a-regular-expression-in-python\n",
    "matches = re.findall(pattern, brief_text)\n",
    "matches[0]"
   ]
  },
  {
   "cell_type": "code",
   "execution_count": 127,
   "metadata": {},
   "outputs": [
    {
     "name": "stdout",
     "output_type": "stream",
     "text": [
      "Unto The End is a 2D sword fighting game about a little beardy man trying to find his way back home after getting lost hunting a deer. You'll guide him through gloomy, cramped caves, climbing and exploring and gathering scraps of leather, bone, and healing herbs. And you'll fight. Lord, you'll fight.It's very much a game about sword fights, but rather than a hack and slash where you cut down monsters by the dozen, 2 Ton Studios emphasise that Unto The End is about fewer, harder fights. Fights that are deliberate and careful, and reward observation and a cool head rather than sheer aggression or strength. It's a strong concept, gorgeously realised, with some great ideas and a lot of personality.\n",
      "\n",
      "\n",
      "I hate it, though.I'm sorry. I really am. There's no joy in slating a game, especially one made by a small team who clearly put a lot of thought and care in. Unto The End has frustrated me into surrender, and I have nothing left but to report on why, and on what it does well, because for all my complaints, I certainly can't say it's a bad game. I'm confident some of you will love it, in fact.It is fantastically animated, for a start. Simply walking around it is a visual delight, be it the extensive, gloomy caves or the icy surface you occasionally break back onto. Those contrasts are particularly effective. As the dim, often pitch black tunnels you wander through are penetrated by a shaft of sunlight and swirling snow, it's near impossible not to feel exactly the relief your little beardman must. Your perspective is often partially obscured by columns of rock or narrow trees in the foreground in a simple but nonetheless excellent parallax technique. There's a bit several hours in where a deer is visible in the distant background, echoing the deer chase that brought you here. A small herd dashes past as they flee from something you will surely have to fight, which in turn snarls and slams its weapon down when it sees you. Not just in aggression but in a clearly territorial warning.When you break the surface and find several dead bodies and a creature attacks, there's an intelligence and purpose to its movements, a pride in its prowess rather than the raw animal aggression from the cave dwellers you've seen before. This fight is a martial challenge, says the game without a single word. This is a warrior. Its eagerness contrasts with your character's movements, which always have an air of reluctance and exertion.The sound, too, is terrific. The open spaces sound so. You can hear how cold the air is, and the faint sounds of life underground drive up the claustrophobia as much as the oppressive darkness. Unto (I have decided that his name is Unto. It just is, okay) grunts and sighs with discomfort. He never actively complains, but he's obviously not having a good time down here. I adored the expressive animations of Flashback as a kid, and Unto's climbing, fighting, rolling, and stoically suffering is its rare and worthy successor.The fighting, then.I think some people are going to love it. I found it constricting and frustrating. I can respect, in principle, a melee fighting game in which every encounter is serious and deadly. In practice, I quickly became tired of it. There's an option to practice sparring with your wife in a playable flashback any time you reach a (very rare) campfire, but fighting her feels too different to most of the actual fights. Recognising tells is key, as the core of its combat is blocking high or low, and then counter-attacking with the opposite while the enemy recovers. But she has different tells. More frustrating still is that you don't fight on even terms. If you block an attack and counter, the enemy will often simply hit you anyway, overriding your own hit and if not killing you, making it likely that you'll keel over from blood loss a few moments later.Damage seems to be completely random. Sometimes a cave feller's spear will kill you instantly. At other times it'll knock you over and you'll assume you're dead, sigh and put down the controls, and then watch as it takes the crowd another four or five hits to kill you. In theory, it means you'll keep fighting no matter what, but in practice, I quickly learned not to bother keeping going if I took a hit or two, since I'd probably just bleed to death anyway. Do any of them keel over mid-fight? Of course not.It doesn't help that the tiny graphics, and majority of the game spent with most of the screen in total darkness save for your torch, make the few pixels that are your health gauge (actually just bloodstains on your beard, which I admit is a cute touch) difficult to make out. And his breathing is so laboured that he sounds like he's dying half the time anyway. As the game's intro emphasises that you can run out of supplies, even using post-fight herbs to slow blood loss felt like risking a game over, and thus trudging through the whole game all over again thanks to its reliance on a single, checkpoint-only save.The checkpoints, too, are plain irritating at times. A game with frequent death needs restarts/reloads to be as near instant as possible, but Unto The End slowly fades out, and then back in, putting a wait of five or six seconds between each attempt. It's a curse, because there are some excellent moments. One encounter, probably the one most players will remember best, involves a warrior lobbing up to three spears that you must duck before (or perhaps roll while) closing to melee. It's a great moment the first time. The first time.Unto has a habit of ignoring what you ask of him. It's not very frequent, but it's frequent enough to be frustrating. The enemies who can't effortlessly block your attacks are few, and rarely alone, while the rest can often decide that your attack is blockable even when they're flat on their back after you barged them to the floor, instantly flicking to an upright position with a spear raised. I can't even switch my block from high to low that fast.Rolled a second too soon? That guy can instantly spin 180 degrees in one frame of his attack wind up. Your man Unto, meanwhile, will throw his dagger in the wrong direction if you try to throw too soon after rolling. He will automatically turn to face enemies you're trying to move away from, and awkwardly shuffle when you want to quickly retreat.I've yet to finish a single feint animation, let alone land a follow up. Whenever I try one, instead of trying to block, enemies just attack as usual instead, and I always come off worse. The barge attack buys space, but it's a toss-up whether your follow up attack will land. The throwing dagger is neat, but why would I only carry one at a time, and why when I accidentally lean on the 'dagger' button while trying a shoulder charge, does Unto take two full seconds to realise he's already thrown it, and elaborately shrug instead of just moving on? It's a good animation, but right now we are being stabbed. Priorities, lad.I just don't feel in control. Each fight feels like my only real option is to repeatedly block until my opponent decides I'm allowed to hit him now. I haven't mentioned the non-combat parts either, in which you explore the caves looking for supplies to patch up and improve your armour at campfires. There are a few environmental puzzles, which would be fine if they didn't sometimes boil down to leaping off things until one of them doesn't kill you. The first note I made was \"It's fucking Rick Dangerous isn't it\", which isn't entirely fair, but it's also not exactly a lie.There are moments where you can avoid a fight, which is great. They're scarce too, which, despite my moaning about the combat, I respect, and think is a better decision than making everything avoidable. But these moments feel similarly flailing. Offering an injured person herbs is obvious enough, but at one point I tried to show an extremely threatening, but hesitant monster, a lock of hair, and Unto knelt down and died. Just straight up died on the spot. Did I choose the wrong item? Does this particular monster hate my wife? Either way, getting back there again meant trudging through the same corridors again.Christ, the prospect of trudging through all that again. I tried. I went back and this time, instead of going after the big boss monster, doubled back to follow a strange person who ran off. He was now sat by a fire, clearly inviting me to use it. When I tried, the game demanded I show him something. Okay. I showed him a trinket. Nothing. I showed him another trinket. Nothing. I showed him some leather. He stood up and stepped aside. And then he stabbed me.I'd say \"I'm sorry, Unto\", but I'm really not sorry because I hate this sluggish, clumsy little arsehole and I wish he'd stayed dead the first time. Some of you will like him (and it's worth giving it a go via Game Pass to see if you do). But that's your problem now.\n"
     ]
    }
   ],
   "source": [
    "# extract main body text\n",
    "body = soup.select(\"div.article_body_content p\")[2:]\n",
    "body_text = \"\"\n",
    "# extract text from each paragraph\n",
    "for item in body:\n",
    "    body_text += item.text\n",
    "updated_body_text = body_text.replace(\"\\nThis review is based on a copy of the game provided by the publisher.\",\"\")\n",
    "print(updated_body_text)"
   ]
  },
  {
   "cell_type": "code",
   "execution_count": 50,
   "metadata": {},
   "outputs": [
    {
     "name": "stdout",
     "output_type": "stream",
     "text": [
      "2 Ton Studios\n"
     ]
    }
   ],
   "source": [
    "developer_tag = soup.find('strong', string='Developer:')\n",
    "# some pages have some typo? in html code, having an extra <br> \n",
    "# iterate through element to find text, reference code found in: https://stackoverflow.com/questions/48780530/python-beautifulsoup-find-next-sibling\n",
    "\n",
    "# use try.. except to deal with Error, reference code found in: https://stackoverflow.com/questions/1835756/using-try-vs-if-in-python\n",
    "# faster than if.. else..?\n",
    "try:\n",
    "    developer_info = developer_tag.next_sibling.strip()\n",
    "    print(developer_info)\n",
    "except TypeError:\n",
    "    developer_info = developer_tag.next_sibling.next_sibling.strip()\n",
    "    print(developer_info)"
   ]
  },
  {
   "cell_type": "markdown",
   "metadata": {},
   "source": [
    "##### webpage format 7 - all info available but len(li)=0; brief variation 2\n",
    "1. review format 1 - soup.select(\"div.article_body_content p\")[2:]\n",
    "2. brief format 1 - soup.select(\".article_body_content > :nth-child(1)\")[0] + regex\n",
    "3. developer format 1 - soup.find('strong', string='Developer:')"
   ]
  },
  {
   "cell_type": "code",
   "execution_count": 128,
   "metadata": {},
   "outputs": [],
   "source": [
    "link = \"https://www.rockpapershotgun.com/nimbatus-review-early-access\"\n",
    "\n",
    "response = requests.get(url=link)\n",
    "html_code = response.text\n",
    "soup = BeautifulSoup(html_code, \"html.parser\")"
   ]
  },
  {
   "cell_type": "code",
   "execution_count": 129,
   "metadata": {},
   "outputs": [
    {
     "data": {
      "text/plain": [
       "0"
      ]
     },
     "execution_count": 129,
     "metadata": {},
     "output_type": "execute_result"
    }
   ],
   "source": [
    "info = soup.select(\"div.article_body_content li\")\n",
    "len(info)"
   ]
  },
  {
   "cell_type": "code",
   "execution_count": 130,
   "metadata": {},
   "outputs": [
    {
     "name": "stdout",
     "output_type": "stream",
     "text": [
      "I've been doing a lot of tinkering recently. Endless iterations of death-dealing drones, flying factories, huge robotic worms and automated weapon platforms - I've lost count of all my experiments in destruction. Nimbatus’ drone editor is a complex, liberating tool where patient engineers can craft a bewildering array of exotic, inventive machines. Then a giant snake blows them up. When my massive artillery drone - the better part of an hour of work - was smashed to bits in less than a minute, I was less than chuffed. It was bristling with missile launchers and surrounded by shields, but it got stuck on a barely-visible piece of scenery and then blown up by the aforementioned scaley menace, who, it turns out, is invincible. I’ve become well acquainted with these setbacks, watching my glorious drones suffer inglorious ends, but I keep finding myself back in the workshop, slapping on new components and trying to figure out how the heck logic gates work.  \n",
      " \n",
      "Above is the full extent of the logic tutorial, and the only in-game explanation for its most complicated system. It tells you to make an automated drone rather than teaching you, then doesn’t even mention the multitude of gates, spitters and switches that you’ll need to use to make anything more advanced. From the moment I set foot in the procedural galaxy, I was winging it. Each galaxy is made up of several solar systems, and within them several worlds, each with its own gravity, air resistance and risk factor. The planets all have an associated objective, and by completing them you can unlock new systems and galaxies. My first job was destroying alien bug nests. My very first drone was so flimsy it just fell apart, while the next few were all destroyed while fighting bugs. I’d go back to the drawing board and make improvements, but then new problems would appear. Every new part increased its mass, and often its energy and fuel consumption. Its size and weight also changed how it moved, so with each new version, I had to learn to pilot it all over again. \n",
      " \n",
      "I started out with little fighters, but since then I’ve graduated to giant bomb factories, drone motherships and serpentine mining drills. Some hovered over planets, bombarding them from a distance; others tunneled through planets, their lasers and drills chewing through rock. In a lot of cases, I’ve relied on designs from the Steam Workshop for their foundations, and I would have been absolutely lost without all these much smarter drone engineers.I haven’t really enjoyed piloting any of them. For all the fine control that I have, letting me place thrusters anywhere, choose individual keybindings, group them together and even automate them, actually flying them is a fiddly trial. The ships aren’t to blame; they’re the victim of Nimbatus’ stubborn, fixed camera and the game’s penchant for trapping drones on tiny parts of the destructible environment. Nimbatus encourages engineers to build big, but these obstacles are only exacerbated by larger drones.  \n",
      " \n",
      "So far I’ve only come across a few types of missions, and none of them seem particularly worthy of a drone that can, let us not forget, destroy whole worlds. The transmitter mission sends you off to find and destroy a transmitter that’s sitting in plain sight. It takes about 30 seconds to explore the entire surface, and less to blow up the transmitter, so you’ll be done in less than a minute. This is actually the best mission. Another mission tasks you with destroying snake eggs, but you’re also being hunted by a giant, indestructible snake that can show up anywhere on the planet and takes up the entire screen. It’s not great! The actual objectives are so unimportant and disconnected from the rest of the game that each planet might as well just be an aimless sandbox. They’re really just testbeds for new drones, and being forced to painstakingly pick up barrels full of chemicals or run away from an angry snake just gets in the way. They’ve become the thing I begrudgingly do when I want to put a drone through its paces or mine for resources. \n",
      "\n",
      "\n",
      "  \n",
      "Nimbatus glosses over it a bit, but gathering resources is integral to drone construction. Every world has resources that you can mine, and when you leave the world, you can turn your bounty into new and upgraded weapons. That’s how you get access to homing missiles, split lasers, reflective bullets and all sorts of tricks, though I’ve only been able to find enough resources to give my existing weapons a bit of a boost. Missions are chores, then, but the absence of time limits means its possible to just flit around, experimenting with new builds, scouring the planet for resources and getting into random fights. And they end so quickly, there’s barely any time to miss the comforts of the drone workshop. \n",
      " \n",
      "I’m much more interested in the Sumo mode, which pits drones against each other in gladiatorial combat. Alas, only automated drones can compete, and my automated drones are shit. It’s a weird barrier, but there’s always the option of downloading yet another drone from the Steam Workshop. If there was some structure to it, with proper leagues and tournaments, and maybe a manual version, then it could be enough to hang a game on. That’s what we really want to see: robots fighting for our amusement. We could probably get Dara Ó Briain to commentate.Until then, I think I’ll be hanging up the welding goggles. The construction tools are brilliant, and only occasionally finicky, but there’s just no forward momentum. Ostensibly, I need to keep unlocking new systems, but there’s no story, rewards or challenge driving it. I’ve got to move onto the next system just because. But not today! I’m taking a stand against tyranny and putting my journey on hold. \n"
     ]
    }
   ],
   "source": [
    "# extract main body text\n",
    "body = soup.select(\"div.article_body_content p\")[2:]\n",
    "\n",
    "body_text = \"\"\n",
    "# extract text from each paragraph\n",
    "for item in body:\n",
    "    body_text += item.text\n",
    "updated_body_text = body_text.replace(\"\\nThis review is based on a copy of the game provided by the publisher.\",\"\").replace(\"Manage cookie settings\", \"\").replace(\"To see this content please enable targeting cookies.\",\"\")\n",
    "print(updated_body_text)"
   ]
  },
  {
   "cell_type": "code",
   "execution_count": 131,
   "metadata": {},
   "outputs": [
    {
     "name": "stdout",
     "output_type": "stream",
     "text": [
      "Stray Fawn Studio\n"
     ]
    }
   ],
   "source": [
    "developer_tag = soup.find('strong', string='Developer:')\n",
    "try:\n",
    "    developer_info = developer_tag.next_sibling.strip()\n",
    "    print(developer_info)\n",
    "except TypeError:\n",
    "    developer_info = developer_tag.next_sibling.next_sibling.strip()\n",
    "    print(developer_info)"
   ]
  },
  {
   "cell_type": "code",
   "execution_count": 132,
   "metadata": {},
   "outputs": [
    {
     "name": "stdout",
     "output_type": "stream",
     "text": [
      "this is a brief, should be TYPE I Format 8\n",
      "Premature Evaluation is the weekly column in which we explore the wilds of early access. This week, Fraser’s put on his (prescription) welding goggles to fix up drones in Nimbatus, a space drone construction sim.\n"
     ]
    }
   ],
   "source": [
    "brief_str = soup.select(\".article_body_content > :nth-child(1)\")[0].text\n",
    "\n",
    "if brief_str == \"\" or brief_str is None: # probably is the img link, no brief, or simly is an empty thing\n",
    "    brief_text = \"n/a\"\n",
    "    print(\"this is not a brief, should be TYPE II format 1\")\n",
    "\n",
    "else:\n",
    "    # regex capture any text before \"Developer:\"\n",
    "    # tested using https://regex101.com/\n",
    "    pattern = re.compile(r'(.+?)\\nDeveloper:', re.DOTALL)\n",
    "    match = re.search(pattern, brief_str)\n",
    "    if match:\n",
    "        brief_text = match.group(1).strip()\n",
    "        print(\"this is a brief, should be TYPE I Format 8\")\n",
    "    else:\n",
    "        if \"Developer\" in brief_str:\n",
    "            print(\"this is not a brief, should be TYPE II format 1\")\n",
    "            print(brief_text)\n",
    "        else:\n",
    "            brief_text = brief_str\n",
    "            print(\"this is a brief, should be TYPE I Format 8\")\n",
    "\n",
    "print(brief_text)"
   ]
  },
  {
   "cell_type": "markdown",
   "metadata": {},
   "source": [
    "##### webpage format 8 - all info available but len(li)=0; brief variation 3\n",
    "1. review format 1 - soup.select(\"div.article_body_content p\")[1:]\n",
    "2. brief format 1 - soup.select(\"em\")\n",
    "3. developer format 1 - soup.find('strong', string='Developer:')"
   ]
  },
  {
   "cell_type": "code",
   "execution_count": 133,
   "metadata": {},
   "outputs": [],
   "source": [
    "link = \"https://www.rockpapershotgun.com/early-access-review-hades\"\n",
    "response = requests.get(url=link)\n",
    "html_code = response.text\n",
    "soup = BeautifulSoup(html_code, \"html.parser\")"
   ]
  },
  {
   "cell_type": "code",
   "execution_count": 134,
   "metadata": {},
   "outputs": [
    {
     "data": {
      "text/plain": [
       "0"
      ]
     },
     "execution_count": 134,
     "metadata": {},
     "output_type": "execute_result"
    }
   ],
   "source": [
    "info = soup.select(\"div.article_body_content li\")\n",
    "len(info)"
   ]
  },
  {
   "cell_type": "code",
   "execution_count": 135,
   "metadata": {},
   "outputs": [
    {
     "name": "stdout",
     "output_type": "stream",
     "text": [
      "Let’s take another look at Hades, the rogue-ish-action-hack-n-slash-n-chat-em-up by Supergiant Games, developers of Bastion and Transistor, in which you play Zagreus, the immortal son of the lord of the underworld on a quest to repeatedly run away from home. Home, in this case, is a giant-ass castle in helltown where the tortured souls of the deceased languish while they await processing, like an infernal waiting room or a less depressing version of Digbeth Coach Station. Yeah, that’s right Birmingham, your dumb coach station is whatever the building equivalent of abject misery is. The toilets cost 30p and they don’t give change. I once saw a rat eating a pigeon there.When I last pointed my Premature Evaluation telescope at Hades one year ago, it was already extremely good, cursing me with a misplaced confidence in the quality of early access games that was then cruelly eroded over the course of 2019 by the confusing parade of broken shite that followed. There was that janky pirate MMO where whales fall out of the sky, and the one I’m still not totally sure wasn’t a fever dream, in which unwashed train drivers ate crisps out of bins and sold red wine to distressed women in alleyways.  \n",
      " \n",
      "Among that little mess Hades stood out, an intelligent and well-constructed rogue-lite in which each death makes you a little bit stronger and wiser, set in a richly illustrated world of Greek epics and commanding sharp and well-acted dialogue. Jay nailed the point that Hades is particularly suited to early access development, not only because the dynamic, randomised layout of Tartarus and beyond forms the ideal foundation for plugging more content into, but because the oral tradition of Hellenic myth itself has undefined edges. Gods come into and go out of fashion, names and locations change over generations, Cerberus gets more and more heads depending on how excitable the storyteller is. Greek myth never made it to version one. The Pantheon would have had one of those little animated “under construction” gifs nailed to a pillar and a Discord channel to submit bug reports.So what’s changed in the time since Hades launched on the Epic Store? A whole heap of delicious things. Multiple major updates have landed, some adding obvious improvements such as the third act in Elysium, a final stage and an actual ending, others ushering in a slew of subtle tweaks designed to make the thing better in ways that are tricky to place a finger on. The dash move has been finessed ever so slightly, for example, but the results are profound. Avoiding enemies by skirting past them on a handful of invincibility frames is now an unalloyed thrill, thanks to whatever new alchemic algorithms have been inserted into the game’s underlying code. If Hades were just dodging things forever next to some pretty underworld urns, I would still breathlessly praise it. \n",
      " \n",
      "There are new friendly Olympians to encounter on each run, and the boons they grant have greatly expanded in their selection. These randomised power-ups are reset each time you’re killed, allowing you to shape an entirely new build with each attempted run by choosing your path through the shifting maze of levels and picking bonuses that complement or compound one another. New to the Pantheon is the likes of Dionysus – the God of Cracking Open a Couple of Cold Ones With The Boys – whose poison-themed boons include a grenade that makes enemies pissed and sluggish.The enlarged roster of gods and their associated buffs also brings with it the reams upon reams of contextual, fully-voiced dialogue for which Supergiant is best known. Boss characters will pass idle comment on your particular choice of boons for instance, mouthing off about Achilles or wondering how you’ve made it to the end of the first area without managing to pick up any Daedalus Hammer weapon upgrades. Zagreus, who sounds less like the wayward son of Hades and more like he’s on a gap year to the seventh circle of hell, still says “cheers” and “mate” like a Bullingdon boy attempting to blend in on a pacer train to Buxton, like Eddie Redmayne ordering a Greggs sausage roll, like Colin Firth making small talk with the guy fixing his clogged up toilet. \n",
      " \n",
      "A more recent addition panders to the feebly skilled player: a god mode that reinforces Zagreus with a 20 percent armour buff, which increments after each death until your shameful lack of ability is sufficiently neutralised. Such brazen hand-holding is nothing short of treachery to that cultish group of purists who’ve built an identity around being Very Good At Games, but Hades implements its easy mode well enough that it could well be the game’s default setting, dynamically lowering the barrier to entry just enough to appeal to those time-strapped players who want to more easily muck about in the richly realised world Supergiant has created. At the other end of the spectrum is a newly introduced, bastard-hard hell mode for the chronically underchallenged player.Supergiant is being modest in their versioning. Hades is on course to leave early access in the second half of 2020, but feels finished already. The scaffolding is down, the paint is drying and after twenty, thirty and sixty runs you’ll have explored just a fraction of the heaving cauldron of boons, builds, keepsakes and chit-chat the underworld has to offer. Hades is a shining example of early access done right, a fluid and evolving adventure that, rather than treat its most loyal fans as unpaid playtesters, rewards and surprises returning players with great big hot guffs of lovely new stuff on a near monthly basis. Now’s the time to dive into it.\n"
     ]
    }
   ],
   "source": [
    "# extract main body text\n",
    "# older posts have a less refined structure ..\n",
    "# in case developer infomation or empty string is included at the begining, iterate till find the body text\n",
    "if \"Release\" not in soup.select(\"div.article_body_content p\")[0].text and soup.select(\"div.article_body_content p\")[0].text !=\"\":\n",
    "    body = soup.select(\"div.article_body_content p\")[0:]\n",
    "elif \"Release\" not in soup.select(\"div.article_body_content p\")[1].text and soup.select(\"div.article_body_content p\")[0].text !=\"\":\n",
    "    body = soup.select(\"div.article_body_content p\")[1:] \n",
    "elif \"Release\" not in soup.select(\"div.article_body_content p\")[2].text and soup.select(\"div.article_body_content p\")[0].text !=\"\":\n",
    "    body = soup.select(\"div.article_body_content p\")[2:] \n",
    "elif \"Release\" not in soup.select(\"div.article_body_content p\")[3].text and soup.select(\"div.article_body_content p\")[0].text !=\"\":\n",
    "    body = soup.select(\"div.article_body_content p\")[3:] \n",
    "else:\n",
    "    body = soup.select(\"div.article_body_content p\")[4:] \n",
    "\n",
    "body_text = \"\"\n",
    "\n",
    "# extract text from each paragraph\n",
    "for item in body:\n",
    "    body_text += item.text\n",
    "updated_body_text = body_text.replace(\"\\nThis review is based on a copy of the game provided by the publisher.\",\"\").replace(\"Manage cookie settings\", \"\").replace(\"To see this content please enable targeting cookies.\",\"\")\n",
    "print(updated_body_text)"
   ]
  },
  {
   "cell_type": "code",
   "execution_count": 136,
   "metadata": {},
   "outputs": [
    {
     "name": "stdout",
     "output_type": "stream",
     "text": [
      "Supergiant Games\n"
     ]
    }
   ],
   "source": [
    "developer_tag = soup.find('strong', string='Developer:')\n",
    "try:\n",
    "    developer_info = developer_tag.next_sibling.strip()\n",
    "    print(developer_info)\n",
    "except TypeError:\n",
    "    developer_info = developer_tag.next_sibling.next_sibling.strip()\n",
    "    print(developer_info)"
   ]
  },
  {
   "cell_type": "code",
   "execution_count": 137,
   "metadata": {},
   "outputs": [
    {
     "name": "stdout",
     "output_type": "stream",
     "text": [
      "Premature Evaluation is the weekly column in which Steve Hogarty explores the wilds of early access. This week, he returns to the realm of the damned to see what's been goin' down in helltown.\n"
     ]
    }
   ],
   "source": [
    "# extract brief\n",
    "brief = soup.select(\"em\")[0].text\n",
    "print(brief)"
   ]
  },
  {
   "cell_type": "markdown",
   "metadata": {},
   "source": [
    "#### FORMAT TYPE II\n",
    "- some information is missing (either missing brief or brief & developer info)"
   ]
  },
  {
   "cell_type": "markdown",
   "metadata": {},
   "source": [
    "##### webpage format 1 - no brief, part of info (release date, etc.) is embedded to body text\n",
    "1. review format 1 - soup.select(\"div.article_body_content p\")[1:]\n",
    "2. brief format 1 - no brief, or the first p of body text\n",
    "3. developer format 1 - soup.find('strong', string='Developer:')"
   ]
  },
  {
   "cell_type": "code",
   "execution_count": 138,
   "metadata": {},
   "outputs": [],
   "source": [
    "link = \"https://www.rockpapershotgun.com/wot-i-think-journey-to-the-savage-planet\"\n",
    "\n",
    "response = requests.get(url=link)\n",
    "html_code = response.text\n",
    "soup = BeautifulSoup(html_code, \"html.parser\")"
   ]
  },
  {
   "cell_type": "code",
   "execution_count": 139,
   "metadata": {},
   "outputs": [
    {
     "data": {
      "text/plain": [
       "0"
      ]
     },
     "execution_count": 139,
     "metadata": {},
     "output_type": "execute_result"
    }
   ],
   "source": [
    "info = soup.select(\"div.article_body_content li\")\n",
    "len(info)"
   ]
  },
  {
   "cell_type": "code",
   "execution_count": 140,
   "metadata": {},
   "outputs": [
    {
     "name": "stdout",
     "output_type": "stream",
     "text": [
      "My clone wakes up in the hell pod for the dozenth time, and I am immediately desperate to leave. Martin Tweed, proud president of the universe's 4th best space exploration company, yells at me from inside a cheesy company FMV memo. The ship's computer lectures me about our dwindling supplies of resurrection goop. The Grob machine will not stop bleeting. Fortunately, there's a planet out there to be explored, exploited and catalogued. All of it is colourful, most of it is gooey, and some of it is hostile. Far too much of it is fart jokes.Journey To The Savage Planet is a romp, and a worthwhile one. It hasn't quite left me feeling full, but I am a picky eater. If you're hankering for a good explore 'em up, the Savage Planet ticks the boxes. You will turn corners and see giant mushroom forests (with a friend, if you like). You will grapple up barnacle cliffs, and hop about lava caves. You'll shoot at glowing lizards, blast through walls with harvested \"bombegranates\", and be snuck up on by silly, frilly, fish.  \n",
      " \n",
      "Lookatchu. Aren't you a good source of silicon? Oh yes you are.You will need to kill many cute creatures on the Savage Planet. This is made clear from the start, when you are taught how to punch quivering eyeball pufferbirds that love you, according to your scanner. Later on you will need to punt them into the rotating jaws of carnivorous chainsaw plants. There's even a bonus objective to kick five of them into the air and blast them while they fall. This ranks up your explorer rating, which you'll need in addition to those juicy resources in order to craft certain upgrades. I soon took to squishing most creatures in sight, idly farming their adorable little hides on the way to my next objective. The Savage Planet has a point to make about environmentalism, but its slobbering tongue spends too much time buried in its cheek for this to really work. You start off plonked at the bottom of a big alien tower that isn't supposed to be there, and with instructions from your corporate overlords telling you to investigate it. To reach the top, you need to turn the world into tools, like a double jump jetpack and a grappling hook. This is handled through a slick little system that throws up objective markers once you've scanned something relevant, like a grapple point you can't yet attach to. Problem is, rather than hacking these out of funky alien trees and wotnot, the ingredients for your gizmos are always sucked out of alien altars decorated with skulls.  \n",
      " \n",
      "I don't, strictly speaking, have anything against alien altars decorated with skulls. But they're a key contributor in rendering the all too human hand of the designer all too visible. Despite all the colour and the wildlife, the Savage Planet doesn't feel like a place so much as a series of obstacles to be traversed. It's a gamey kind of game that makes unapologetic jokes about extracting Macguffin juice, and plasters the names of new areas on my screen when I reach them. How can I be a pioneering space explorer if someone's already labelled this mushroom forest as the Fungi of Si'ned VII?These are small complaints, but they undermine something larger. The creatures may be bizarre, but they all fit a certain mould. They don't feel natural. They don't confound. Every aspect of the planet plays to your expectations, rather than around them. Subnautica found elegant solutions to these problems, and gosh, pity the game that gets compared to Subnautica, but also maybe go play Subnautica instead.  \n",
      " \n",
      "The Savage Planet is solid. It swooshes you along a parade of poppable aliens, proffering up nooks and crannies to explore along the way. It's still a pleasure to be in, still sumptuous and appetising. You will see rocky islands floating high above you, and then you'll be on those rocks, and then you will feel accomplished. Although it is a shame that reaching secret spots off the beaten path can often feel underwhelming. Some of them take more effort than a stamina and health-increasing blob deserve. The ending isn't great, either. The mysteries inside the tower turn out too mundane, and to get to them you have to spend an age hunting for three sets of yellow blobs. The preceding lack of frustration made me resent those blobs all the more.I've spent a lot of this review slapping a good game for not being great, so let's make up for that. The writers may be more interested in farts than I am, but they can also be very funny. The sentient slime sex line advert was a highlight, blasted at me from the hell pod where you respawn. As were the commercials for emotional disinfectant tissues, and the one for a micromall full of grow-your-own humans. I liked the computer, too, always chipper about death and clones and such. \n",
      " \n",
      "There's also an A-tier gag embedded in character creation, which I won't ruin by telling you. You should hear it for yourself.I can't shake the frustration that the Savage Planet could have been something more, but that might be because I've been spoiled through reading reams of outlandish sci-fi. It's populated by the pulpy bug-eyed monsters of the fifties, rather than the oddities dreamt up by the likes of Iain Banks or Greg Egan. Or Liu Cixin. Or China Miéville. Or Ted Chiang. Or Peter Watts.Perhaps it's unfair to compare wonders that can be summoned on a page with those that have to fit within the framework of a game, but that's still where my mind winds up going. If I'm being sold weirdness, I want it to be properly strange. Silly frilly fish are grand, but they're not sentient sub-atomic eyeballs. And I could do without my scanner telling me they're made of poo.Your mileage may vary, and it might not be worth poking into every corner - but The Journey To The Savage Planet is still a trip worth taking. \n"
     ]
    }
   ],
   "source": [
    "# extract main body text\n",
    "# iterate till find the body text\n",
    "if \"Release\" not in soup.select(\"div.article_body_content p\")[0].text and soup.select(\"div.article_body_content p\")[0].text !=\"\":\n",
    "    body = soup.select(\"div.article_body_content p\")[0:]\n",
    "elif \"Release\" not in soup.select(\"div.article_body_content p\")[1].text and soup.select(\"div.article_body_content p\")[0].text !=\"\":\n",
    "    body = soup.select(\"div.article_body_content p\")[1:] \n",
    "elif \"Release\" not in soup.select(\"div.article_body_content p\")[2].text and soup.select(\"div.article_body_content p\")[0].text !=\"\":\n",
    "    body = soup.select(\"div.article_body_content p\")[2:] \n",
    "elif \"Release\" not in soup.select(\"div.article_body_content p\")[3].text and soup.select(\"div.article_body_content p\")[0].text !=\"\":\n",
    "    body = soup.select(\"div.article_body_content p\")[3:] \n",
    "else:\n",
    "    body = soup.select(\"div.article_body_content p\")[4:] \n",
    "\n",
    "body_text = \"\"\n",
    "\n",
    "# extract text from each paragraph\n",
    "for item in body:\n",
    "    body_text += item.text\n",
    "updated_body_text = body_text.replace(\"\\nThis review is based on a copy of the game provided by the publisher.\",\"\").replace(\"Manage cookie settings\", \"\").replace(\"To see this content please enable targeting cookies.\",\"\")\n",
    "print(updated_body_text)\n"
   ]
  },
  {
   "cell_type": "code",
   "execution_count": 141,
   "metadata": {},
   "outputs": [
    {
     "name": "stdout",
     "output_type": "stream",
     "text": [
      "Typhoon Studios\n"
     ]
    }
   ],
   "source": [
    "developer_tag = soup.find('strong', string='Developer:')\n",
    "try:\n",
    "    developer_info = developer_tag.next_sibling.strip()\n",
    "    print(developer_info)\n",
    "except TypeError:\n",
    "    developer_info = developer_tag.next_sibling.next_sibling.strip()\n",
    "    print(developer_info)"
   ]
  },
  {
   "cell_type": "code",
   "execution_count": 65,
   "metadata": {},
   "outputs": [],
   "source": [
    "# no brief"
   ]
  },
  {
   "cell_type": "markdown",
   "metadata": {},
   "source": [
    "##### webpage format 2 - no brief; len(li)!=0\n",
    "1. review format 1 - soup.select(\"div.article_body_content p\")\n",
    "2. brief format 1 - no brief\n",
    "3. developer format 1 - soup.select(\"div.article_body_content li\")"
   ]
  },
  {
   "cell_type": "code",
   "execution_count": 142,
   "metadata": {},
   "outputs": [],
   "source": [
    "link = \"https://www.rockpapershotgun.com/iron-harvest-review\"\n",
    "\n",
    "response = requests.get(url=link)\n",
    "html_code = response.text\n",
    "soup = BeautifulSoup(html_code, \"html.parser\")"
   ]
  },
  {
   "cell_type": "code",
   "execution_count": 143,
   "metadata": {},
   "outputs": [
    {
     "data": {
      "text/plain": [
       "6"
      ]
     },
     "execution_count": 143,
     "metadata": {},
     "output_type": "execute_result"
    }
   ],
   "source": [
    "info = soup.select(\"div.article_body_content li\")\n",
    "len(info)"
   ]
  },
  {
   "cell_type": "code",
   "execution_count": 144,
   "metadata": {},
   "outputs": [
    {
     "name": "stdout",
     "output_type": "stream",
     "text": [
      "Iron Harvest is an alternate history RTS in which the great empires of the early 20th century invented giant stompy robots with machine guns for heads and spinning blades for arms. Inspired by the work of Polish artist Jakub Rozalski, who paints smokey pastoral scenes loomed over by grey machines lumbering across hazy horizons, the game depicts a world in which the mechanization of warfare didn’t stop with tanks and railguns, but instead progressed to iron mech suits and industrial-era megazords.These are very good robots. Not the pristine, precision-engineered war machines of modern science-fiction, with all of their ball bearings and cupholders and heated seats, but noisy, oily, juddering wrecks that stink of WD40 and tremble like nervous metal greyhounds. These are janky, diesel-powered mechs that look like they’re about to rattle themselves to pieces sooner than stroll into battle. Iron Harvest conveys the look and feel of Rozalski’s fantasy universe, tapping into the sense of awe and privilege real Europeans must have felt when they witnessed the first ever tank trundling into their town to obliterate the post office.In contrast to the vastness of the machines, the scale of the battles in Iron Harvest feels decidedly personal. A single player campaign focuses first on the story of Anna, the leader of a bunch of Polanian rebels, as she and her best friend, a grizzly bear who can breathe ursine healing gas on injured units, defends her homeland from a Rusviet plot to destabilise the delicate peace treaty between the two nations. Missions vary in scope from chaperoning your hero and a few handfuls of units from one side of the map to the other, using the cover of sandbags, smashed up buildings and fallen logs to navigate around and flank enemy soldiers, to large scale battles in which opposing bases are constructed and resource-generating sites repeatedly change hands. \n",
      " \n",
      "The game handles like Company Of Heroes — which Iron Harvest is consciously inspired by — or a slowed-down Command & Conquer, or any mid-2000s RTS where the camera perspective doesn’t pull back very far, and your focus is on manoeuvring units into tactically advantageous positions rather than surveying the entire battlefield at once. Individual squads are hardy and able to take a thorough beating given sufficient cover, allowing you the opportunity to send countermeasures to the rescue, usually in the form of a slightly larger or faster robot than the one your opponent’s got. In this manner, skirmishes can slow right down and can become battles of attrition once a couple of units dig their heels in. Paper comes to the rescue of scissors, only to need rescuing from a rock.Each unit has a clearly signposted strength and weakness. There’s a mech that looks like a friendly grain silo with metal spider legs and gatling guns for hands, which carves up any soldiers who’ve wandered out of cover. There are rocket units who can take on mechs by attacking their weak point, which in the grand old tradition of giant-robot-construction is positioned on the rear. Grenadiers can flush enemy units out from behind cover, engineers can repair units and construct barracks to produce more. Beneath the charismatic cast of incongruous bipedal tanks, Iron Harvest is fun but uncomplicated. If you’ve ever stood within two metres of somebody who has played a strategy game before, you’ll have absorbed this level of knowledge through psychic osmosis. \n",
      " \n",
      "But then there are the superstar units, the building-sized, end-game mechs. The very biggest machines are a spectacle, like IKEA warehouses that have grown a pair of legs, cumbersome and absolutely thrilling to command. Order them to hunker down and they’ll draw in their vast appendages to become impenetrable rocket silos. Order them towards an objective and they’ll take a direct route through any buildings in their path, dispensing with wayfinding to carve a neat furrow of destruction through rows of terraced houses, sending bricks and debris flying for miles.It’s a shame that Iron Harvest’s tight, top-down perspective doesn’t allow for mechs on the grand scale of Rozalski’s most god-like and horizon-dominating war machines, but a mixture of subtle animation and sound design makes the game’s megamechs seem much larger than they appear on screen. When one is eventually taken out, it sounds like an orchestra being fed into a compactor over the course of thirty, ear-shredding seconds. \n",
      " \n",
      "The single player campaign is a hefty thing, including all three of the game’s factions and set across a series of varied and story-driven missions. In an early Polanian mission, you’re protecting a steam train as it winds through a series of narrow mountain passes, using your sniper unit and her bear friend to scout ahead for enemies before deciding on the best tactical approach for each encounter. When you eventually arrive at a heavily fortified bridge the mission opens up by unlocking base building and resource collection, merging an earlier focus on exploration and small scale shootouts with huge, noisy, mech-thrashing battles, all on the same map. Taken with the slowly expanding roster of challenge maps, there’s more than enough single player content here to satisfy the multiplayer-averse and the chronically underskilled. Each mission usually ends with a highly entertaining cutscene too, in which a pantomime villain in a custom-made mech suit leaps out from behind a barn to threaten you and your magic bear before running away again. This is where Iron Harvest deviates most from Company Of Heroes. \n",
      " \n",
      "Multiplayer comes in the form of a co-operative single player campaign, which allows either player to control any friendly unit on the field as though you were both grappling the same keyboard and mouse. Competitively, if the sadistic matchmaking algorithm doesn’t summon a vastly more experienced player to comprehensively humiliate you, skirmishes play out between two teams of one to three players on maps littered with resource generating control points. The overly simple balancing of Iron Harvest’s units is more noticeable here, where the use of high-falutin’ tactics like cover or positioning is quickly undone by simple type advantages. The basic composition of your army tends to determine their survival rate, far more than where you tell them to stand. \n",
      " \n",
      "Of course, if that type advantage happens to fall in your favour and your flame-spitting robots are merrily incinerating a platoon of soldiers whose human flesh is predictably weak to fire, that lack of tactical depth won’t concern you quite so much, and you can relish in this game’s realisation of Rozalski’s intriguing and weird alternate history. Iron Harvest is a throwback to one of the last golden ages of the genre, often feeling as old fashioned and crusty as that association entails, but frequently reminding us of the essential appeal of extremely large robots chilling out in timelines where they shouldn’t be.\n"
     ]
    }
   ],
   "source": [
    "# extract main body text\n",
    "body = (soup.select(\"div.article_body_content p\"))\n",
    "body_text = \"\"\n",
    "# extract text from each paragraph\n",
    "for item in body:\n",
    "    body_text += item.text\n",
    "updated_body_text = body_text.replace(\"\\nThis review is based on a copy of the game provided by the publisher.\",\"\")\n",
    "\n",
    "print(updated_body_text)"
   ]
  },
  {
   "cell_type": "code",
   "execution_count": 145,
   "metadata": {},
   "outputs": [
    {
     "data": {
      "text/plain": [
       "'King Art'"
      ]
     },
     "execution_count": 145,
     "metadata": {},
     "output_type": "execute_result"
    }
   ],
   "source": [
    "# different tag to locate developer info - Simplescraper\n",
    "info = soup.select(\"div.article_body_content li\")\n",
    "developer = info[0].text.replace(\"Developer: \", \"\").replace(\"Developer:\", \"\").replace(\"\\n\",\"\")\n",
    "developer"
   ]
  },
  {
   "cell_type": "code",
   "execution_count": 70,
   "metadata": {},
   "outputs": [],
   "source": [
    "# no brief info"
   ]
  },
  {
   "cell_type": "markdown",
   "metadata": {},
   "source": [
    "##### webpage format 3 - no info & brief, only body text; or brief is embdded to body text\n",
    "1. review format 1 - soup.select(\"div.article_body_content p\")\n",
    "2. brief format 1 - no brief, or the first p of body text\n",
    "3. developer format 1 - no info"
   ]
  },
  {
   "cell_type": "code",
   "execution_count": 146,
   "metadata": {},
   "outputs": [],
   "source": [
    "link = \"https://www.rockpapershotgun.com/wot-i-think-star-wars-chess\"\n",
    "# link = \"https://www.rockpapershotgun.com/witch-hunt-review-early-access\" # premature evaluation\n",
    "\n",
    "response = requests.get(url=link)\n",
    "html_code = response.text\n",
    "soup = BeautifulSoup(html_code, \"html.parser\")"
   ]
  },
  {
   "cell_type": "code",
   "execution_count": 147,
   "metadata": {},
   "outputs": [
    {
     "data": {
      "text/plain": [
       "0"
      ]
     },
     "execution_count": 147,
     "metadata": {},
     "output_type": "execute_result"
    }
   ],
   "source": [
    "info = soup.select(\"div.article_body_content li\")\n",
    "len(info)"
   ]
  },
  {
   "cell_type": "code",
   "execution_count": 149,
   "metadata": {},
   "outputs": [
    {
     "name": "stdout",
     "output_type": "stream",
     "text": [
      "n/a\n",
      "Oh man, I can't imagine loving anything more than Star Wars. Spaceships and robots and laser swords and that masked evil dude who sounds like he needs a throat sweet - those cool 80s films are the best thing ever. And I really like chess too: it's like a 3D videogame, only you don't need to wear silly glasses! So Star Wars Chess is a dream come true, maybe even the game I've been waiting for my whole life. The only way the universe could possibly get any better would be if they made some new Star Wars films. That would be so awesome.\n",
      "\n",
      "\n",
      " \n",
      "Star Wars Chess is chess with characters from Star Wars. Apart from Han, who only appears as a frozen carbonite block in the background. Maybe they thought everyone would be too confused because he looks like the guy in Indiana Jones and the Last Crusade? It's got Luke, and R2-D2, and my favorite, Chewie!  They're all here! The white side are guys from the Rebel Alliance - R2D2 as pawns, Chewie as knight (let the wookiee win!), C-3P0 as the bishop and Yoda as the rook. Though it should have been Chewie as the wook. Also two Yodas looks wrong, but it's frickin' Yoda, so you don't mess!  \n",
      " \n",
      "Finally Luke is king and Leia is queen. Now that really is pretty weird, because aren't those guys supposed to be brother and sister? But wouldn't a king and queen be married? Maybe that's a bit sick. It's okay though, cos they don't get it on or anything, unless there's a bonus board I haven't unlocked yet. And Luke's a Jedi, so he's too busy being noble and stuff.Anyway, the black team are The Empire - Darth as queen, Palpatine as king, loads of stormtroopers as pawns and minituarised AT-STs as rooks. Best of all, Boba Fett is the bishop! You remember Boba Fett, the bounter hunter guy with the awesome jetpack? Yeah, he's back! Tusken Raiders as Knights is a bit off though, because they're not actually part of the Empire - that's the only reason I'm not scoring Star Wars Chess 100 out of 100. Hopefully they will fix this serious and insulting error in Star Wars Chess 2.  \n",
      " \n",
      "Basically, it's chess, so you have to trap the other team's king to win. You can play against the computer, or another player, or just watch the computer play itself. I like to do that latter, because the animations are so incredible - I don't want having to think and stuff getting in the way of watching R2-D2 kill Stormtroopers. Yup, it's all about the killings.  \n",
      " \n",
      "Each character has a special kill move against each other type of character, so there's loads of replay value in trying to see them all. Even C-3PO can kill other guys - Tusken Raiders hit themselves in the face when their gaffi sticks bounce of his golden hide, and it's so funny when he confiscates Boba Fett's gun!   \n",
      " \n",
      "The best one of them all is when Boba Fett kills Chewbacca. They both shoot at each for ages, ducking and diving until they're both out of ammo. Just when it looks as though Chewie is going to reach over with his massive Wookiee arms and break Fett's armoured neck, our man Boba takes off his jetpack, points the business end at Chewie and fries him alive! It's amazing!  \n",
      " \n",
      "Star Wars Chess is worth it for that alone, but all the other killings are pretty amazing too. Though it is a bit creepy the way all the losing character's friends just stand and impassively watch as their comrades are murdered horribly in front of them. I don't think they really like each other after all.In conclusion, you should definitely buy Star Wars Chess if you like Star Wars and you like chess. \n"
     ]
    }
   ],
   "source": [
    "# extract main body text\n",
    "body = (soup.select(\"div.article_body_content p\"))\n",
    "body_text = \"\"\n",
    "# extract text from each paragraph\n",
    "# there is one case that it is a Premature Evaluation - in that case the first sentence of the body text is the brief\n",
    "if \"Premature Evaluation\" in str(body):\n",
    "    brief_text = body[0].text.replace(\"\\n\",\"\")\n",
    "    for item in body[1:]:\n",
    "        body_text += item.text\n",
    "else:\n",
    "    brief_text = \"n/a\"\n",
    "    for item in body:\n",
    "        body_text += item.text\n",
    "updated_body_text = body_text.replace(\"\\nThis review is based on a copy of the game provided by the publisher.\",\"\")\n",
    "\n",
    "print(brief_text)\n",
    "print(updated_body_text)"
   ]
  },
  {
   "cell_type": "code",
   "execution_count": 150,
   "metadata": {},
   "outputs": [
    {
     "name": "stdout",
     "output_type": "stream",
     "text": [
      "None\n"
     ]
    }
   ],
   "source": [
    "developer_tag = soup.find('strong', string='Developer:')\n",
    "print(developer_tag)\n",
    "# try:\n",
    "#     developer_info = developer_tag.next_sibling.strip()\n",
    "#     print(developer_info)\n",
    "# except TypeError:\n",
    "#     developer_info = developer_tag.next_sibling.next_sibling.strip()\n",
    "#     print(developer_info)\n",
    "\n",
    "# no developer info"
   ]
  },
  {
   "cell_type": "code",
   "execution_count": 151,
   "metadata": {},
   "outputs": [],
   "source": [
    "# no brief"
   ]
  },
  {
   "cell_type": "markdown",
   "metadata": {},
   "source": [
    "### References"
   ]
  },
  {
   "cell_type": "markdown",
   "metadata": {},
   "source": [
    "Tools used in this notebook:\n",
    "\n",
    "- Simplescraper, a Chrome Extension to obtain HTML elements for the select content on any website. Available at: https://simplescraper.io\n",
    "\n",
    "- regex101, regular expression tester. Available at: https://regex101.com/\n",
    "  \n",
    "Code References:\n",
    "\n",
    "- How can I get href links from HTML using Python? [online] Stack Overflow. Available at: https://stackoverflow.com/questions/3075550/how-can-i-get-href-links-from-html-using-python\n",
    "\n",
    "- Differences between .text and .get_text() [online] Stack Overflow. Available at: https://stackoverflow.com/questions/35496332/differences-between-text-and-get-text\n",
    "\n",
    "- How to remove symbols from a string with Python [online] Stack Overflow. Available at: https://stackoverflow.com/questions/875968/how-to-remove-symbols-from-a-string-with-python\n",
    "\n",
    "- Python String strip() Method [online] W3Schools. Available at:https://www.w3schools.com/python/ref_string_strip.asp\n",
    "\n",
    "- Regex select all text between tages [online] Stack Overflow. Available at: https://stackoverflow.com/questions/7167279/regex-select-all-text-between-tags\n",
    "\n",
    "\n",
    "- How can I find all matches to a regular expression in Python [online] Stack Overflow. Available at:https://stackoverflow.com/questions/4697882/how-can-i-find-all-matches-to-a-regular-expression-in-python\n",
    "\n",
    "- Python BeautifulSoup find next sibling [online] Stack Overflow. Available at:https://stackoverflow.com/questions/48780530/python-beautifulsoup-find-next-sibling\n",
    "\n",
    "- Using try vs. if in Python [online] Stack Overflow. Available at:https://stackoverflow.com/questions/1835756/using-try-vs-if-in-python\n"
   ]
  }
 ],
 "metadata": {
  "kernelspec": {
   "display_name": "nlp",
   "language": "python",
   "name": "python3"
  },
  "language_info": {
   "codemirror_mode": {
    "name": "ipython",
    "version": 3
   },
   "file_extension": ".py",
   "mimetype": "text/x-python",
   "name": "python",
   "nbconvert_exporter": "python",
   "pygments_lexer": "ipython3",
   "version": "3.9.18"
  }
 },
 "nbformat": 4,
 "nbformat_minor": 2
}
